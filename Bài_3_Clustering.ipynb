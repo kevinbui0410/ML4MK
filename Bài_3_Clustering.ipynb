{
  "nbformat": 4,
  "nbformat_minor": 0,
  "metadata": {
    "colab": {
      "name": "Bài 3 Clustering.ipynb",
      "provenance": [],
      "collapsed_sections": [],
      "authorship_tag": "ABX9TyPhm9AGL0GE1jcu6sT1nGAn",
      "include_colab_link": true
    },
    "kernelspec": {
      "name": "python3",
      "display_name": "Python 3"
    }
  },
  "cells": [
    {
      "cell_type": "markdown",
      "metadata": {
        "id": "view-in-github",
        "colab_type": "text"
      },
      "source": [
        "<a href=\"https://colab.research.google.com/github/kevinbui0410/ML4MK/blob/main/B%C3%A0i_3_Clustering.ipynb\" target=\"_parent\"><img src=\"https://colab.research.google.com/assets/colab-badge.svg\" alt=\"Open In Colab\"/></a>"
      ]
    },
    {
      "cell_type": "markdown",
      "metadata": {
        "id": "qhXKHHU5Qqzr"
      },
      "source": [
        "**Step 1: Business Understanding**\n",
        "\n",
        "Phân cụm khách hàng dựa vào cột LoanAmount(đon vị tính: thousand và cột ApplicantIncome)"
      ]
    },
    {
      "cell_type": "code",
      "metadata": {
        "colab": {
          "base_uri": "https://localhost:8080/"
        },
        "id": "k9YBqv9PQEsh",
        "outputId": "f57468c7-f26b-4e86-a746-ef4e9fc3b36b"
      },
      "source": [
        "from google.colab import drive\n",
        "drive.mount('/content/drive',force_remount=True)"
      ],
      "execution_count": null,
      "outputs": [
        {
          "output_type": "stream",
          "text": [
            "Mounted at /content/drive\n"
          ],
          "name": "stdout"
        }
      ]
    },
    {
      "cell_type": "code",
      "metadata": {
        "id": "dPqEmf9mRGzz"
      },
      "source": [
        "import pandas as pd\n",
        "import numpy as np\n",
        "import matplotlib.pyplot as plt\n",
        "import seaborn as sns\n",
        "import warnings\n",
        "warnings.filterwarnings('ignore')"
      ],
      "execution_count": null,
      "outputs": []
    },
    {
      "cell_type": "markdown",
      "metadata": {
        "id": "IPE_VcZKRck5"
      },
      "source": [
        "**Step 2:Data Understanding/Acquire**\n",
        "\n",
        "Data đã được cung cấp trong file clustering, gồm hơn 382 dòng và nhiều cột\n",
        "\n"
      ]
    },
    {
      "cell_type": "markdown",
      "metadata": {
        "id": "_rTuI4cfSCRZ"
      },
      "source": [
        "**Step 3: Data prepartion/Prepare**"
      ]
    },
    {
      "cell_type": "code",
      "metadata": {
        "id": "NlDtUORLRZu0"
      },
      "source": [
        "path = '/content/drive/My Drive/LDS6_Bui_Thanh_Quang/LDS6_Bui_Thanh_Quang_Thi/'"
      ],
      "execution_count": null,
      "outputs": []
    },
    {
      "cell_type": "code",
      "metadata": {
        "id": "7aQMdIxcS0Gp"
      },
      "source": [
        "data = pd.read_csv(path+'data/clustering.csv')"
      ],
      "execution_count": null,
      "outputs": []
    },
    {
      "cell_type": "code",
      "metadata": {
        "colab": {
          "base_uri": "https://localhost:8080/"
        },
        "id": "MASeJFAuS86U",
        "outputId": "34011a51-a8a7-4f1f-eb8f-50abcb78737c"
      },
      "source": [
        "data.info()"
      ],
      "execution_count": null,
      "outputs": [
        {
          "output_type": "stream",
          "text": [
            "<class 'pandas.core.frame.DataFrame'>\n",
            "RangeIndex: 381 entries, 0 to 380\n",
            "Data columns (total 13 columns):\n",
            " #   Column             Non-Null Count  Dtype  \n",
            "---  ------             --------------  -----  \n",
            " 0   Loan_ID            381 non-null    object \n",
            " 1   Gender             376 non-null    object \n",
            " 2   Married            381 non-null    object \n",
            " 3   Dependents         373 non-null    object \n",
            " 4   Education          381 non-null    object \n",
            " 5   Self_Employed      360 non-null    object \n",
            " 6   ApplicantIncome    381 non-null    int64  \n",
            " 7   CoapplicantIncome  381 non-null    float64\n",
            " 8   LoanAmount         381 non-null    float64\n",
            " 9   Loan_Amount_Term   370 non-null    float64\n",
            " 10  Credit_History     351 non-null    float64\n",
            " 11  Property_Area      381 non-null    object \n",
            " 12  Loan_Status        381 non-null    object \n",
            "dtypes: float64(4), int64(1), object(8)\n",
            "memory usage: 38.8+ KB\n"
          ],
          "name": "stdout"
        }
      ]
    },
    {
      "cell_type": "code",
      "metadata": {
        "colab": {
          "base_uri": "https://localhost:8080/"
        },
        "id": "gvOizLZBTtLn",
        "outputId": "b3f3e09e-f1d3-4557-b188-a7d3f8c929de"
      },
      "source": [
        "data.isnull().sum()"
      ],
      "execution_count": null,
      "outputs": [
        {
          "output_type": "execute_result",
          "data": {
            "text/plain": [
              "Loan_ID               0\n",
              "Gender                5\n",
              "Married               0\n",
              "Dependents            8\n",
              "Education             0\n",
              "Self_Employed        21\n",
              "ApplicantIncome       0\n",
              "CoapplicantIncome     0\n",
              "LoanAmount            0\n",
              "Loan_Amount_Term     11\n",
              "Credit_History       30\n",
              "Property_Area         0\n",
              "Loan_Status           0\n",
              "dtype: int64"
            ]
          },
          "metadata": {
            "tags": []
          },
          "execution_count": 81
        }
      ]
    },
    {
      "cell_type": "code",
      "metadata": {
        "colab": {
          "base_uri": "https://localhost:8080/",
          "height": 204
        },
        "id": "R5WgUUH-TxtX",
        "outputId": "ffa34947-ec0d-4e7d-9d38-152f77a980d1"
      },
      "source": [
        "data.head()"
      ],
      "execution_count": null,
      "outputs": [
        {
          "output_type": "execute_result",
          "data": {
            "text/html": [
              "<div>\n",
              "<style scoped>\n",
              "    .dataframe tbody tr th:only-of-type {\n",
              "        vertical-align: middle;\n",
              "    }\n",
              "\n",
              "    .dataframe tbody tr th {\n",
              "        vertical-align: top;\n",
              "    }\n",
              "\n",
              "    .dataframe thead th {\n",
              "        text-align: right;\n",
              "    }\n",
              "</style>\n",
              "<table border=\"1\" class=\"dataframe\">\n",
              "  <thead>\n",
              "    <tr style=\"text-align: right;\">\n",
              "      <th></th>\n",
              "      <th>Loan_ID</th>\n",
              "      <th>Gender</th>\n",
              "      <th>Married</th>\n",
              "      <th>Dependents</th>\n",
              "      <th>Education</th>\n",
              "      <th>Self_Employed</th>\n",
              "      <th>ApplicantIncome</th>\n",
              "      <th>CoapplicantIncome</th>\n",
              "      <th>LoanAmount</th>\n",
              "      <th>Loan_Amount_Term</th>\n",
              "      <th>Credit_History</th>\n",
              "      <th>Property_Area</th>\n",
              "      <th>Loan_Status</th>\n",
              "    </tr>\n",
              "  </thead>\n",
              "  <tbody>\n",
              "    <tr>\n",
              "      <th>0</th>\n",
              "      <td>LP001003</td>\n",
              "      <td>Male</td>\n",
              "      <td>Yes</td>\n",
              "      <td>1</td>\n",
              "      <td>Graduate</td>\n",
              "      <td>No</td>\n",
              "      <td>4583</td>\n",
              "      <td>1508.0</td>\n",
              "      <td>128.0</td>\n",
              "      <td>360.0</td>\n",
              "      <td>1.0</td>\n",
              "      <td>Rural</td>\n",
              "      <td>N</td>\n",
              "    </tr>\n",
              "    <tr>\n",
              "      <th>1</th>\n",
              "      <td>LP001005</td>\n",
              "      <td>Male</td>\n",
              "      <td>Yes</td>\n",
              "      <td>0</td>\n",
              "      <td>Graduate</td>\n",
              "      <td>Yes</td>\n",
              "      <td>3000</td>\n",
              "      <td>0.0</td>\n",
              "      <td>66.0</td>\n",
              "      <td>360.0</td>\n",
              "      <td>1.0</td>\n",
              "      <td>Urban</td>\n",
              "      <td>Y</td>\n",
              "    </tr>\n",
              "    <tr>\n",
              "      <th>2</th>\n",
              "      <td>LP001006</td>\n",
              "      <td>Male</td>\n",
              "      <td>Yes</td>\n",
              "      <td>0</td>\n",
              "      <td>Not Graduate</td>\n",
              "      <td>No</td>\n",
              "      <td>2583</td>\n",
              "      <td>2358.0</td>\n",
              "      <td>120.0</td>\n",
              "      <td>360.0</td>\n",
              "      <td>1.0</td>\n",
              "      <td>Urban</td>\n",
              "      <td>Y</td>\n",
              "    </tr>\n",
              "    <tr>\n",
              "      <th>3</th>\n",
              "      <td>LP001008</td>\n",
              "      <td>Male</td>\n",
              "      <td>No</td>\n",
              "      <td>0</td>\n",
              "      <td>Graduate</td>\n",
              "      <td>No</td>\n",
              "      <td>6000</td>\n",
              "      <td>0.0</td>\n",
              "      <td>141.0</td>\n",
              "      <td>360.0</td>\n",
              "      <td>1.0</td>\n",
              "      <td>Urban</td>\n",
              "      <td>Y</td>\n",
              "    </tr>\n",
              "    <tr>\n",
              "      <th>4</th>\n",
              "      <td>LP001013</td>\n",
              "      <td>Male</td>\n",
              "      <td>Yes</td>\n",
              "      <td>0</td>\n",
              "      <td>Not Graduate</td>\n",
              "      <td>No</td>\n",
              "      <td>2333</td>\n",
              "      <td>1516.0</td>\n",
              "      <td>95.0</td>\n",
              "      <td>360.0</td>\n",
              "      <td>1.0</td>\n",
              "      <td>Urban</td>\n",
              "      <td>Y</td>\n",
              "    </tr>\n",
              "  </tbody>\n",
              "</table>\n",
              "</div>"
            ],
            "text/plain": [
              "    Loan_ID Gender Married  ... Credit_History Property_Area Loan_Status\n",
              "0  LP001003   Male     Yes  ...            1.0         Rural           N\n",
              "1  LP001005   Male     Yes  ...            1.0         Urban           Y\n",
              "2  LP001006   Male     Yes  ...            1.0         Urban           Y\n",
              "3  LP001008   Male      No  ...            1.0         Urban           Y\n",
              "4  LP001013   Male     Yes  ...            1.0         Urban           Y\n",
              "\n",
              "[5 rows x 13 columns]"
            ]
          },
          "metadata": {
            "tags": []
          },
          "execution_count": 82
        }
      ]
    },
    {
      "cell_type": "code",
      "metadata": {
        "colab": {
          "base_uri": "https://localhost:8080/",
          "height": 297
        },
        "id": "AS8can5BUFm2",
        "outputId": "dcdaa4b8-f87e-4e19-e0e8-f7c3c4578b2b"
      },
      "source": [
        "data.describe()"
      ],
      "execution_count": null,
      "outputs": [
        {
          "output_type": "execute_result",
          "data": {
            "text/html": [
              "<div>\n",
              "<style scoped>\n",
              "    .dataframe tbody tr th:only-of-type {\n",
              "        vertical-align: middle;\n",
              "    }\n",
              "\n",
              "    .dataframe tbody tr th {\n",
              "        vertical-align: top;\n",
              "    }\n",
              "\n",
              "    .dataframe thead th {\n",
              "        text-align: right;\n",
              "    }\n",
              "</style>\n",
              "<table border=\"1\" class=\"dataframe\">\n",
              "  <thead>\n",
              "    <tr style=\"text-align: right;\">\n",
              "      <th></th>\n",
              "      <th>ApplicantIncome</th>\n",
              "      <th>CoapplicantIncome</th>\n",
              "      <th>LoanAmount</th>\n",
              "      <th>Loan_Amount_Term</th>\n",
              "      <th>Credit_History</th>\n",
              "    </tr>\n",
              "  </thead>\n",
              "  <tbody>\n",
              "    <tr>\n",
              "      <th>count</th>\n",
              "      <td>381.000000</td>\n",
              "      <td>381.000000</td>\n",
              "      <td>381.000000</td>\n",
              "      <td>370.000000</td>\n",
              "      <td>351.000000</td>\n",
              "    </tr>\n",
              "    <tr>\n",
              "      <th>mean</th>\n",
              "      <td>3579.845144</td>\n",
              "      <td>1277.275381</td>\n",
              "      <td>104.986877</td>\n",
              "      <td>340.864865</td>\n",
              "      <td>0.837607</td>\n",
              "    </tr>\n",
              "    <tr>\n",
              "      <th>std</th>\n",
              "      <td>1419.813818</td>\n",
              "      <td>2340.818114</td>\n",
              "      <td>28.358464</td>\n",
              "      <td>68.549257</td>\n",
              "      <td>0.369338</td>\n",
              "    </tr>\n",
              "    <tr>\n",
              "      <th>min</th>\n",
              "      <td>150.000000</td>\n",
              "      <td>0.000000</td>\n",
              "      <td>9.000000</td>\n",
              "      <td>12.000000</td>\n",
              "      <td>0.000000</td>\n",
              "    </tr>\n",
              "    <tr>\n",
              "      <th>25%</th>\n",
              "      <td>2600.000000</td>\n",
              "      <td>0.000000</td>\n",
              "      <td>90.000000</td>\n",
              "      <td>360.000000</td>\n",
              "      <td>1.000000</td>\n",
              "    </tr>\n",
              "    <tr>\n",
              "      <th>50%</th>\n",
              "      <td>3333.000000</td>\n",
              "      <td>983.000000</td>\n",
              "      <td>110.000000</td>\n",
              "      <td>360.000000</td>\n",
              "      <td>1.000000</td>\n",
              "    </tr>\n",
              "    <tr>\n",
              "      <th>75%</th>\n",
              "      <td>4288.000000</td>\n",
              "      <td>2016.000000</td>\n",
              "      <td>127.000000</td>\n",
              "      <td>360.000000</td>\n",
              "      <td>1.000000</td>\n",
              "    </tr>\n",
              "    <tr>\n",
              "      <th>max</th>\n",
              "      <td>9703.000000</td>\n",
              "      <td>33837.000000</td>\n",
              "      <td>150.000000</td>\n",
              "      <td>480.000000</td>\n",
              "      <td>1.000000</td>\n",
              "    </tr>\n",
              "  </tbody>\n",
              "</table>\n",
              "</div>"
            ],
            "text/plain": [
              "       ApplicantIncome  CoapplicantIncome  ...  Loan_Amount_Term  Credit_History\n",
              "count       381.000000         381.000000  ...        370.000000      351.000000\n",
              "mean       3579.845144        1277.275381  ...        340.864865        0.837607\n",
              "std        1419.813818        2340.818114  ...         68.549257        0.369338\n",
              "min         150.000000           0.000000  ...         12.000000        0.000000\n",
              "25%        2600.000000           0.000000  ...        360.000000        1.000000\n",
              "50%        3333.000000         983.000000  ...        360.000000        1.000000\n",
              "75%        4288.000000        2016.000000  ...        360.000000        1.000000\n",
              "max        9703.000000       33837.000000  ...        480.000000        1.000000\n",
              "\n",
              "[8 rows x 5 columns]"
            ]
          },
          "metadata": {
            "tags": []
          },
          "execution_count": 83
        }
      ]
    },
    {
      "cell_type": "markdown",
      "metadata": {
        "id": "v3EpgIsNUblh"
      },
      "source": [
        "**Trực quan hóa kiểm tra dữ liệu 2 cột thực hiện phân cụm: ApplicantIncome và LoanAmount**"
      ]
    },
    {
      "cell_type": "code",
      "metadata": {
        "colab": {
          "base_uri": "https://localhost:8080/",
          "height": 306
        },
        "id": "NLI7wf1ZUPhn",
        "outputId": "562374a2-e279-4aea-d7bb-7e788d66df5e"
      },
      "source": [
        "plt.figure(figsize=(8,5))\n",
        "plt.subplot(1,2,1)\n",
        "sns.boxplot(y=data.ApplicantIncome, orient='v')\n",
        "plt.subplot(1,2,2)\n",
        "sns.boxplot(y=data.LoanAmount, orient='v')\n",
        "plt.show()"
      ],
      "execution_count": null,
      "outputs": [
        {
          "output_type": "display_data",
          "data": {
            "image/png": "[encoded data removed]",
            "text/plain": [
              "<Figure size 576x360 with 2 Axes>"
            ]
          },
          "metadata": {
            "tags": [],
            "needs_background": "light"
          }
        }
      ]
    },
    {
      "cell_type": "markdown",
      "metadata": {
        "id": "tGmSC65yU_q5"
      },
      "source": [
        "Có outlier, kiểm tra phân phối"
      ]
    },
    {
      "cell_type": "code",
      "metadata": {
        "colab": {
          "base_uri": "https://localhost:8080/",
          "height": 334
        },
        "id": "u6geoAZZU5xh",
        "outputId": "67e96820-7d1a-4af3-bd6b-b97ea9426f39"
      },
      "source": [
        "plt.figure(figsize=(8,5))\n",
        "plt.subplot(1,2,1)\n",
        "sns.distplot(data.ApplicantIncome)\n",
        "plt.subplot(1,2,2)\n",
        "sns.distplot(data.LoanAmount)\n",
        "plt.show()"
      ],
      "execution_count": null,
      "outputs": [
        {
          "output_type": "display_data",
          "data": {
            "image/png": "[encoded data removed]",
            "text/plain": [
              "<Figure size 576x360 with 2 Axes>"
            ]
          },
          "metadata": {
            "tags": [],
            "needs_background": "light"
          }
        }
      ]
    },
    {
      "cell_type": "code",
      "metadata": {
        "colab": {
          "base_uri": "https://localhost:8080/"
        },
        "id": "VXnZhOccVL8O",
        "outputId": "b5c70023-17d3-4a87-af3b-13e5f70f4a64"
      },
      "source": [
        "data.skew()"
      ],
      "execution_count": null,
      "outputs": [
        {
          "output_type": "execute_result",
          "data": {
            "text/plain": [
              "ApplicantIncome      1.119751\n",
              "CoapplicantIncome    8.660692\n",
              "LoanAmount          -0.804282\n",
              "Loan_Amount_Term    -2.204931\n",
              "Credit_History      -1.838651\n",
              "dtype: float64"
            ]
          },
          "metadata": {
            "tags": []
          },
          "execution_count": 86
        }
      ]
    },
    {
      "cell_type": "code",
      "metadata": {
        "colab": {
          "base_uri": "https://localhost:8080/"
        },
        "id": "EpzrUTVfVVov",
        "outputId": "4bb17361-b8b2-4149-b63e-793be2ba509b"
      },
      "source": [
        "data.kurtosis()"
      ],
      "execution_count": null,
      "outputs": [
        {
          "output_type": "execute_result",
          "data": {
            "text/plain": [
              "ApplicantIncome        2.063464\n",
              "CoapplicantIncome    108.590665\n",
              "LoanAmount             0.224007\n",
              "Loan_Amount_Term       5.778382\n",
              "Credit_History         1.388518\n",
              "dtype: float64"
            ]
          },
          "metadata": {
            "tags": []
          },
          "execution_count": 87
        }
      ]
    },
    {
      "cell_type": "markdown",
      "metadata": {
        "id": "YvgVXtLfVnmd"
      },
      "source": [
        "Data có outlier\n",
        "\n",
        "Không theo phân phối Gaussian\n",
        "\n",
        "Dùng RobustScaler để chuẩn hóa"
      ]
    },
    {
      "cell_type": "code",
      "metadata": {
        "id": "ZQMnRYSpVhFO"
      },
      "source": [
        "from sklearn.preprocessing import RobustScaler\n",
        "rbScaler = RobustScaler()\n",
        "rbScaler.fit(data[['LoanAmount','ApplicantIncome']])\n",
        "data_sub = rbScaler.transform(data[['LoanAmount','ApplicantIncome']])"
      ],
      "execution_count": null,
      "outputs": []
    },
    {
      "cell_type": "code",
      "metadata": {
        "id": "xxM88a2RWcEp"
      },
      "source": [
        "data_sub_robust_scaler = pd.DataFrame(data_sub,columns=['rb_LoanAmount','rb_ApplicantIncome'])\n",
        "data = pd.concat([data.reset_index(drop=True),data_sub_robust_scaler],axis=1)"
      ],
      "execution_count": null,
      "outputs": []
    },
    {
      "cell_type": "code",
      "metadata": {
        "colab": {
          "base_uri": "https://localhost:8080/",
          "height": 204
        },
        "id": "fPx5x2sNZEzQ",
        "outputId": "ef3e0f80-be9a-4238-a100-bb63ad3490f3"
      },
      "source": [
        "data.head()"
      ],
      "execution_count": null,
      "outputs": [
        {
          "output_type": "execute_result",
          "data": {
            "text/html": [
              "<div>\n",
              "<style scoped>\n",
              "    .dataframe tbody tr th:only-of-type {\n",
              "        vertical-align: middle;\n",
              "    }\n",
              "\n",
              "    .dataframe tbody tr th {\n",
              "        vertical-align: top;\n",
              "    }\n",
              "\n",
              "    .dataframe thead th {\n",
              "        text-align: right;\n",
              "    }\n",
              "</style>\n",
              "<table border=\"1\" class=\"dataframe\">\n",
              "  <thead>\n",
              "    <tr style=\"text-align: right;\">\n",
              "      <th></th>\n",
              "      <th>Loan_ID</th>\n",
              "      <th>Gender</th>\n",
              "      <th>Married</th>\n",
              "      <th>Dependents</th>\n",
              "      <th>Education</th>\n",
              "      <th>Self_Employed</th>\n",
              "      <th>ApplicantIncome</th>\n",
              "      <th>CoapplicantIncome</th>\n",
              "      <th>LoanAmount</th>\n",
              "      <th>Loan_Amount_Term</th>\n",
              "      <th>Credit_History</th>\n",
              "      <th>Property_Area</th>\n",
              "      <th>Loan_Status</th>\n",
              "      <th>rb_LoanAmount</th>\n",
              "      <th>rb_ApplicantIncome</th>\n",
              "    </tr>\n",
              "  </thead>\n",
              "  <tbody>\n",
              "    <tr>\n",
              "      <th>0</th>\n",
              "      <td>LP001003</td>\n",
              "      <td>Male</td>\n",
              "      <td>Yes</td>\n",
              "      <td>1</td>\n",
              "      <td>Graduate</td>\n",
              "      <td>No</td>\n",
              "      <td>4583</td>\n",
              "      <td>1508.0</td>\n",
              "      <td>128.0</td>\n",
              "      <td>360.0</td>\n",
              "      <td>1.0</td>\n",
              "      <td>Rural</td>\n",
              "      <td>N</td>\n",
              "      <td>0.486486</td>\n",
              "      <td>0.740521</td>\n",
              "    </tr>\n",
              "    <tr>\n",
              "      <th>1</th>\n",
              "      <td>LP001005</td>\n",
              "      <td>Male</td>\n",
              "      <td>Yes</td>\n",
              "      <td>0</td>\n",
              "      <td>Graduate</td>\n",
              "      <td>Yes</td>\n",
              "      <td>3000</td>\n",
              "      <td>0.0</td>\n",
              "      <td>66.0</td>\n",
              "      <td>360.0</td>\n",
              "      <td>1.0</td>\n",
              "      <td>Urban</td>\n",
              "      <td>Y</td>\n",
              "      <td>-1.189189</td>\n",
              "      <td>-0.197275</td>\n",
              "    </tr>\n",
              "    <tr>\n",
              "      <th>2</th>\n",
              "      <td>LP001006</td>\n",
              "      <td>Male</td>\n",
              "      <td>Yes</td>\n",
              "      <td>0</td>\n",
              "      <td>Not Graduate</td>\n",
              "      <td>No</td>\n",
              "      <td>2583</td>\n",
              "      <td>2358.0</td>\n",
              "      <td>120.0</td>\n",
              "      <td>360.0</td>\n",
              "      <td>1.0</td>\n",
              "      <td>Urban</td>\n",
              "      <td>Y</td>\n",
              "      <td>0.270270</td>\n",
              "      <td>-0.444313</td>\n",
              "    </tr>\n",
              "    <tr>\n",
              "      <th>3</th>\n",
              "      <td>LP001008</td>\n",
              "      <td>Male</td>\n",
              "      <td>No</td>\n",
              "      <td>0</td>\n",
              "      <td>Graduate</td>\n",
              "      <td>No</td>\n",
              "      <td>6000</td>\n",
              "      <td>0.0</td>\n",
              "      <td>141.0</td>\n",
              "      <td>360.0</td>\n",
              "      <td>1.0</td>\n",
              "      <td>Urban</td>\n",
              "      <td>Y</td>\n",
              "      <td>0.837838</td>\n",
              "      <td>1.579976</td>\n",
              "    </tr>\n",
              "    <tr>\n",
              "      <th>4</th>\n",
              "      <td>LP001013</td>\n",
              "      <td>Male</td>\n",
              "      <td>Yes</td>\n",
              "      <td>0</td>\n",
              "      <td>Not Graduate</td>\n",
              "      <td>No</td>\n",
              "      <td>2333</td>\n",
              "      <td>1516.0</td>\n",
              "      <td>95.0</td>\n",
              "      <td>360.0</td>\n",
              "      <td>1.0</td>\n",
              "      <td>Urban</td>\n",
              "      <td>Y</td>\n",
              "      <td>-0.405405</td>\n",
              "      <td>-0.592417</td>\n",
              "    </tr>\n",
              "  </tbody>\n",
              "</table>\n",
              "</div>"
            ],
            "text/plain": [
              "    Loan_ID Gender Married  ... Loan_Status rb_LoanAmount rb_ApplicantIncome\n",
              "0  LP001003   Male     Yes  ...           N      0.486486           0.740521\n",
              "1  LP001005   Male     Yes  ...           Y     -1.189189          -0.197275\n",
              "2  LP001006   Male     Yes  ...           Y      0.270270          -0.444313\n",
              "3  LP001008   Male      No  ...           Y      0.837838           1.579976\n",
              "4  LP001013   Male     Yes  ...           Y     -0.405405          -0.592417\n",
              "\n",
              "[5 rows x 15 columns]"
            ]
          },
          "metadata": {
            "tags": []
          },
          "execution_count": 90
        }
      ]
    },
    {
      "cell_type": "markdown",
      "metadata": {
        "id": "g2_nL8UuZQaY"
      },
      "source": [
        "**Step 4: Modeling & Evaluation/ Analyze & Report**"
      ]
    },
    {
      "cell_type": "code",
      "metadata": {
        "colab": {
          "base_uri": "https://localhost:8080/",
          "height": 498
        },
        "id": "nvyuD1dqZGOO",
        "outputId": "c13c682a-f641-4cdd-a401-c163b6b323e7"
      },
      "source": [
        "plt.figure(figsize=(8,8))\n",
        "sns.scatterplot(data=data, x='rb_LoanAmount',y='rb_ApplicantIncome')\n",
        "plt.show()"
      ],
      "execution_count": null,
      "outputs": [
        {
          "output_type": "display_data",
          "data": {
            "image/png": "[encoded data removed]",
            "text/plain": [
              "<Figure size 576x576 with 1 Axes>"
            ]
          },
          "metadata": {
            "tags": [],
            "needs_background": "light"
          }
        }
      ]
    },
    {
      "cell_type": "code",
      "metadata": {
        "colab": {
          "base_uri": "https://localhost:8080/",
          "height": 335
        },
        "id": "_YFFZ0byZj9q",
        "outputId": "e055e692-f269-48b3-f8c3-0529d5c214b4"
      },
      "source": [
        "plt.figure(figsize=(8,5))\n",
        "plt.subplot(1,2,1)\n",
        "sns.distplot(data.rb_ApplicantIncome)\n",
        "plt.subplot(1,2,2)\n",
        "sns.distplot(data.rb_LoanAmount)\n",
        "plt.show()"
      ],
      "execution_count": null,
      "outputs": [
        {
          "output_type": "display_data",
          "data": {
            "image/png": "[encoded data removed]",
            "text/plain": [
              "<Figure size 576x360 with 2 Axes>"
            ]
          },
          "metadata": {
            "tags": [],
            "needs_background": "light"
          }
        }
      ]
    },
    {
      "cell_type": "markdown",
      "metadata": {
        "id": "PkbCdoILbSpq"
      },
      "source": [
        "**Chọn KMeans vì dữ liệu tương đối lớn so với hierarchical nhưng không đủ để thực hiện GMM**"
      ]
    },
    {
      "cell_type": "code",
      "metadata": {
        "colab": {
          "base_uri": "https://localhost:8080/"
        },
        "id": "UGiERUdxalTu",
        "outputId": "1a04e35d-019f-4f81-cb9e-7dd955cd094a"
      },
      "source": [
        "from sklearn.cluster import KMeans\n",
        "from sklearn import metrics\n",
        "from scipy.spatial.distance import cdist\n",
        "distortions = []\n",
        "K = range(1,8)\n",
        "for k in K:\n",
        "  kmeanModel = KMeans(n_clusters=k)\n",
        "  kmeanModel.fit(data[['rb_ApplicantIncome','rb_LoanAmount']])\n",
        "  distortions.append(sum(np.min(cdist(data[['rb_ApplicantIncome','rb_LoanAmount']],kmeanModel.cluster_centers_,'euclidean'),axis=1))/data[['rb_ApplicantIncome','rb_LoanAmount']].shape[0])\n",
        "distortions"
      ],
      "execution_count": null,
      "outputs": [
        {
          "output_type": "execute_result",
          "data": {
            "text/plain": [
              "[0.9762880737298799,\n",
              " 0.7563989626346153,\n",
              " 0.6153069108114854,\n",
              " 0.5338853299043959,\n",
              " 0.47483631558558986,\n",
              " 0.4424925856399869,\n",
              " 0.415592313165]"
            ]
          },
          "metadata": {
            "tags": []
          },
          "execution_count": 93
        }
      ]
    },
    {
      "cell_type": "code",
      "metadata": {
        "colab": {
          "base_uri": "https://localhost:8080/",
          "height": 295
        },
        "id": "nrE9cc_vcU8K",
        "outputId": "2021c57f-89e2-41cb-dbd3-b49e8a4bb083"
      },
      "source": [
        "plt.plot(K, distortions, 'rx-')\n",
        "plt.xlabel('k')\n",
        "plt.ylabel('Distortion')\n",
        "plt.title('The Elbow Method showing the optimal k')\n",
        "plt.show()"
      ],
      "execution_count": null,
      "outputs": [
        {
          "output_type": "display_data",
          "data": {
            "image/png": "[encoded data removed]",
            "text/plain": [
              "<Figure size 432x288 with 1 Axes>"
            ]
          },
          "metadata": {
            "tags": [],
            "needs_background": "light"
          }
        }
      ]
    },
    {
      "cell_type": "markdown",
      "metadata": {
        "id": "9nn68aBGYlTZ"
      },
      "source": [
        "**Chọn k=4 vì lỗi giảm dần và mịn**"
      ]
    },
    {
      "cell_type": "code",
      "metadata": {
        "colab": {
          "base_uri": "https://localhost:8080/"
        },
        "id": "ZqBBN3wwYV05",
        "outputId": "f7dfbf76-fee1-4d58-bac6-d2050afda454"
      },
      "source": [
        "# \n",
        "kmeans = KMeans(n_clusters=4)\n",
        "kmeans.fit(data[['rb_ApplicantIncome','rb_LoanAmount']])"
      ],
      "execution_count": null,
      "outputs": [
        {
          "output_type": "execute_result",
          "data": {
            "text/plain": [
              "KMeans(algorithm='auto', copy_x=True, init='k-means++', max_iter=300,\n",
              "       n_clusters=4, n_init=10, n_jobs=None, precompute_distances='auto',\n",
              "       random_state=None, tol=0.0001, verbose=0)"
            ]
          },
          "metadata": {
            "tags": []
          },
          "execution_count": 95
        }
      ]
    },
    {
      "cell_type": "code",
      "metadata": {
        "colab": {
          "base_uri": "https://localhost:8080/"
        },
        "id": "F5tXxZuzZOnr",
        "outputId": "1644061e-d9a9-4eff-8546-f809d01258c2"
      },
      "source": [
        "centroids = kmeans.cluster_centers_\n",
        "labels = kmeans.labels_\n",
        "print('Centroids in robust scaler:')\n",
        "print(centroids)\n",
        "print('Centroids in normal:')\n",
        "normal_centroids = rbScaler.inverse_transform(centroids) # chuyen min max scaler ve gia tri ban dau\n",
        "print(normal_centroids)\n",
        "print(labels)\n"
      ],
      "execution_count": null,
      "outputs": [
        {
          "output_type": "stream",
          "text": [
            "Centroids in robust scaler:\n",
            "[[-0.51881912  0.03693694]\n",
            " [-0.16293512 -1.277726  ]\n",
            " [ 1.92696979  0.40405405]\n",
            " [ 0.41097386  0.29064139]]\n",
            "Centroids in normal:\n",
            "[[  90.80369273 3395.34954955]\n",
            " [ 103.97140056 1176.19850885]\n",
            " [ 181.29788211 4015.04324324]\n",
            " [ 125.20603293 3823.60266236]]\n",
            "[3 1 0 2 0 1 0 0 1 3 3 1 3 0 2 0 3 0 3 1 3 1 3 3 0 3 3 1 1 1 3 3 1 1 2 0 3\n",
            " 0 0 3 3 0 0 3 3 0 0 3 3 2 3 0 1 3 3 0 3 3 1 0 0 0 0 1 3 1 0 1 3 0 3 0 2 0\n",
            " 2 0 3 0 1 0 1 3 1 1 1 3 3 1 3 0 0 1 3 2 0 1 0 0 0 2 3 0 1 0 1 3 3 0 3 0 1\n",
            " 1 3 1 1 1 1 3 0 3 0 3 3 3 1 1 1 3 3 2 3 3 0 3 1 3 1 3 3 2 3 0 1 0 3 3 3 0\n",
            " 2 0 2 3 2 2 2 0 0 3 0 2 3 3 0 2 3 3 3 0 1 0 0 3 0 1 3 3 1 1 1 0 3 3 3 3 3\n",
            " 2 3 3 0 0 0 3 0 3 3 0 1 0 1 2 3 3 0 3 0 3 3 3 3 1 3 0 1 1 1 1 1 0 0 0 2 0\n",
            " 3 1 0 1 3 0 2 2 0 3 0 0 3 2 3 1 2 3 2 3 3 0 0 2 0 0 0 3 1 0 3 0 1 1 0 1 3\n",
            " 0 1 1 0 1 0 3 2 1 0 2 0 1 2 1 1 2 2 0 3 1 2 3 3 3 1 3 0 1 3 0 2 3 3 3 2 3\n",
            " 3 2 1 0 3 0 3 0 0 0 0 0 1 1 0 3 3 0 0 3 0 0 0 3 3 3 3 3 1 3 0 0 0 1 1 2 3\n",
            " 0 2 3 3 0 3 1 3 0 3 0 0 1 0 3 0 3 1 1 3 2 3 1 3 1 0 2 0 3 0 0 0 1 1 0 0 1\n",
            " 3 0 1 3 3 1 2 0 1 1 3]\n"
          ],
          "name": "stdout"
        }
      ]
    },
    {
      "cell_type": "markdown",
      "metadata": {
        "id": "bYXVug-SaQz4"
      },
      "source": [
        "**Report**"
      ]
    },
    {
      "cell_type": "code",
      "metadata": {
        "colab": {
          "base_uri": "https://localhost:8080/",
          "height": 204
        },
        "id": "By4XUU1YaMga",
        "outputId": "784026f8-1282-4b7f-c2ac-57141844c02a"
      },
      "source": [
        "data[\"Group\"] = pd.Series(labels)\n",
        "data.head()"
      ],
      "execution_count": null,
      "outputs": [
        {
          "output_type": "execute_result",
          "data": {
            "text/html": [
              "<div>\n",
              "<style scoped>\n",
              "    .dataframe tbody tr th:only-of-type {\n",
              "        vertical-align: middle;\n",
              "    }\n",
              "\n",
              "    .dataframe tbody tr th {\n",
              "        vertical-align: top;\n",
              "    }\n",
              "\n",
              "    .dataframe thead th {\n",
              "        text-align: right;\n",
              "    }\n",
              "</style>\n",
              "<table border=\"1\" class=\"dataframe\">\n",
              "  <thead>\n",
              "    <tr style=\"text-align: right;\">\n",
              "      <th></th>\n",
              "      <th>Loan_ID</th>\n",
              "      <th>Gender</th>\n",
              "      <th>Married</th>\n",
              "      <th>Dependents</th>\n",
              "      <th>Education</th>\n",
              "      <th>Self_Employed</th>\n",
              "      <th>ApplicantIncome</th>\n",
              "      <th>CoapplicantIncome</th>\n",
              "      <th>LoanAmount</th>\n",
              "      <th>Loan_Amount_Term</th>\n",
              "      <th>Credit_History</th>\n",
              "      <th>Property_Area</th>\n",
              "      <th>Loan_Status</th>\n",
              "      <th>rb_LoanAmount</th>\n",
              "      <th>rb_ApplicantIncome</th>\n",
              "      <th>Group</th>\n",
              "    </tr>\n",
              "  </thead>\n",
              "  <tbody>\n",
              "    <tr>\n",
              "      <th>0</th>\n",
              "      <td>LP001003</td>\n",
              "      <td>Male</td>\n",
              "      <td>Yes</td>\n",
              "      <td>1</td>\n",
              "      <td>Graduate</td>\n",
              "      <td>No</td>\n",
              "      <td>4583</td>\n",
              "      <td>1508.0</td>\n",
              "      <td>128.0</td>\n",
              "      <td>360.0</td>\n",
              "      <td>1.0</td>\n",
              "      <td>Rural</td>\n",
              "      <td>N</td>\n",
              "      <td>0.486486</td>\n",
              "      <td>0.740521</td>\n",
              "      <td>3</td>\n",
              "    </tr>\n",
              "    <tr>\n",
              "      <th>1</th>\n",
              "      <td>LP001005</td>\n",
              "      <td>Male</td>\n",
              "      <td>Yes</td>\n",
              "      <td>0</td>\n",
              "      <td>Graduate</td>\n",
              "      <td>Yes</td>\n",
              "      <td>3000</td>\n",
              "      <td>0.0</td>\n",
              "      <td>66.0</td>\n",
              "      <td>360.0</td>\n",
              "      <td>1.0</td>\n",
              "      <td>Urban</td>\n",
              "      <td>Y</td>\n",
              "      <td>-1.189189</td>\n",
              "      <td>-0.197275</td>\n",
              "      <td>1</td>\n",
              "    </tr>\n",
              "    <tr>\n",
              "      <th>2</th>\n",
              "      <td>LP001006</td>\n",
              "      <td>Male</td>\n",
              "      <td>Yes</td>\n",
              "      <td>0</td>\n",
              "      <td>Not Graduate</td>\n",
              "      <td>No</td>\n",
              "      <td>2583</td>\n",
              "      <td>2358.0</td>\n",
              "      <td>120.0</td>\n",
              "      <td>360.0</td>\n",
              "      <td>1.0</td>\n",
              "      <td>Urban</td>\n",
              "      <td>Y</td>\n",
              "      <td>0.270270</td>\n",
              "      <td>-0.444313</td>\n",
              "      <td>0</td>\n",
              "    </tr>\n",
              "    <tr>\n",
              "      <th>3</th>\n",
              "      <td>LP001008</td>\n",
              "      <td>Male</td>\n",
              "      <td>No</td>\n",
              "      <td>0</td>\n",
              "      <td>Graduate</td>\n",
              "      <td>No</td>\n",
              "      <td>6000</td>\n",
              "      <td>0.0</td>\n",
              "      <td>141.0</td>\n",
              "      <td>360.0</td>\n",
              "      <td>1.0</td>\n",
              "      <td>Urban</td>\n",
              "      <td>Y</td>\n",
              "      <td>0.837838</td>\n",
              "      <td>1.579976</td>\n",
              "      <td>2</td>\n",
              "    </tr>\n",
              "    <tr>\n",
              "      <th>4</th>\n",
              "      <td>LP001013</td>\n",
              "      <td>Male</td>\n",
              "      <td>Yes</td>\n",
              "      <td>0</td>\n",
              "      <td>Not Graduate</td>\n",
              "      <td>No</td>\n",
              "      <td>2333</td>\n",
              "      <td>1516.0</td>\n",
              "      <td>95.0</td>\n",
              "      <td>360.0</td>\n",
              "      <td>1.0</td>\n",
              "      <td>Urban</td>\n",
              "      <td>Y</td>\n",
              "      <td>-0.405405</td>\n",
              "      <td>-0.592417</td>\n",
              "      <td>0</td>\n",
              "    </tr>\n",
              "  </tbody>\n",
              "</table>\n",
              "</div>"
            ],
            "text/plain": [
              "    Loan_ID Gender Married  ... rb_LoanAmount rb_ApplicantIncome Group\n",
              "0  LP001003   Male     Yes  ...      0.486486           0.740521     3\n",
              "1  LP001005   Male     Yes  ...     -1.189189          -0.197275     1\n",
              "2  LP001006   Male     Yes  ...      0.270270          -0.444313     0\n",
              "3  LP001008   Male      No  ...      0.837838           1.579976     2\n",
              "4  LP001013   Male     Yes  ...     -0.405405          -0.592417     0\n",
              "\n",
              "[5 rows x 16 columns]"
            ]
          },
          "metadata": {
            "tags": []
          },
          "execution_count": 97
        }
      ]
    },
    {
      "cell_type": "code",
      "metadata": {
        "colab": {
          "base_uri": "https://localhost:8080/"
        },
        "id": "J2m_jA-ubh-Z",
        "outputId": "778e1fff-82a7-477c-9723-0379156fb1e0"
      },
      "source": [
        "data.Group.value_counts()"
      ],
      "execution_count": null,
      "outputs": [
        {
          "output_type": "execute_result",
          "data": {
            "text/plain": [
              "3    134\n",
              "0    120\n",
              "1     87\n",
              "2     40\n",
              "Name: Group, dtype: int64"
            ]
          },
          "metadata": {
            "tags": []
          },
          "execution_count": 98
        }
      ]
    },
    {
      "cell_type": "code",
      "metadata": {
        "colab": {
          "base_uri": "https://localhost:8080/"
        },
        "id": "0D0F585Mbp5i",
        "outputId": "84350c90-9b50-4e2c-c3ae-023bfac1b8b4"
      },
      "source": [
        "i = 0\n",
        "for cluster in normal_centroids:\n",
        "  print('Centroid Cluster:'+str(i))\n",
        "  print('LoanAmount:',round(cluster[0],2))\n",
        "  print('ApplicantIncome:',round(cluster[1],2))\n",
        "  i = i+1"
      ],
      "execution_count": null,
      "outputs": [
        {
          "output_type": "stream",
          "text": [
            "Centroid Cluster:0\n",
            "LoanAmount: 90.8\n",
            "ApplicantIncome: 3395.35\n",
            "Centroid Cluster:1\n",
            "LoanAmount: 103.97\n",
            "ApplicantIncome: 1176.2\n",
            "Centroid Cluster:2\n",
            "LoanAmount: 181.3\n",
            "ApplicantIncome: 4015.04\n",
            "Centroid Cluster:3\n",
            "LoanAmount: 125.21\n",
            "ApplicantIncome: 3823.6\n"
          ],
          "name": "stdout"
        }
      ]
    },
    {
      "cell_type": "code",
      "metadata": {
        "colab": {
          "base_uri": "https://localhost:8080/",
          "height": 483
        },
        "id": "GmSaQCQSdszA",
        "outputId": "c791f147-0340-46a1-c8d3-7575a7e2353f"
      },
      "source": [
        "plt.figure(figsize=(8,8))\n",
        "plt.scatter(data.rb_ApplicantIncome,data.rb_LoanAmount, c=data.Group, cmap='rainbow')\n",
        "plt.scatter(centroids[:,0], centroids[:,1], marker='s',c='black')\n",
        "plt.show()"
      ],
      "execution_count": null,
      "outputs": [
        {
          "output_type": "display_data",
          "data": {
            "image/png": "[encoded data removed]",
            "text/plain": [
              "<Figure size 576x576 with 1 Axes>"
            ]
          },
          "metadata": {
            "tags": [],
            "needs_background": "light"
          }
        }
      ]
    },
    {
      "cell_type": "code",
      "metadata": {
        "colab": {
          "base_uri": "https://localhost:8080/"
        },
        "id": "xXcHZ821d4eX",
        "outputId": "c3dfd5c3-5feb-4028-99c2-72b021c92fac"
      },
      "source": [
        "\n",
        "for i in range(4):\n",
        "  print('Group:',i)\n",
        "  print('min LoanAmount = ',data[data['Group']==i]['LoanAmount'].min())\n",
        "  print('max LoanAmount = ',data[data['Group']==i]['LoanAmount'].max())\n",
        "  print('min ApplicantIncome = ',data[data['Group']==i]['ApplicantIncome'].min())\n",
        "  print('max ApplicantIncome = ',data[data['Group']==i]['ApplicantIncome'].max())\n",
        "  print('*'*30)"
      ],
      "execution_count": null,
      "outputs": [
        {
          "output_type": "stream",
          "text": [
            "Group: 0\n",
            "min LoanAmount =  85.0\n",
            "max LoanAmount =  150.0\n",
            "min ApplicantIncome =  150\n",
            "max ApplicantIncome =  3400\n",
            "******************************\n",
            "Group: 1\n",
            "min LoanAmount =  9.0\n",
            "max LoanAmount =  89.0\n",
            "min ApplicantIncome =  1299\n",
            "max ApplicantIncome =  5649\n",
            "******************************\n",
            "Group: 2\n",
            "min LoanAmount =  75.0\n",
            "max LoanAmount =  150.0\n",
            "min ApplicantIncome =  5316\n",
            "max ApplicantIncome =  9703\n",
            "******************************\n",
            "Group: 3\n",
            "min LoanAmount =  84.0\n",
            "max LoanAmount =  150.0\n",
            "min ApplicantIncome =  2971\n",
            "max ApplicantIncome =  5250\n",
            "******************************\n"
          ],
          "name": "stdout"
        }
      ]
    },
    {
      "cell_type": "markdown",
      "metadata": {
        "id": "0WMMhkcOfrCj"
      },
      "source": [
        "**Dữ liệu chia thành 4 nhóm**\n",
        "\n",
        "**Nhóm những người có LoanAmount thấp, ApplicantIncome trung bình**\n",
        "\n",
        "**Nhóm những người có LoanAmount cao, ApplicantIncome thấp**\n",
        "\n",
        "**Nhóm những người có LoanAmount cao, ApplicantIncome cao**\n",
        "\n",
        "**Nhóm những người có LoanAmount cao, ApplicantIncome trung bình**"
      ]
    },
    {
      "cell_type": "markdown",
      "metadata": {
        "id": "K0Lf6z57hEnb"
      },
      "source": [
        "**Yêu cầu 2: Chọn thêm cột gender để thực hiện phân cụm**"
      ]
    },
    {
      "cell_type": "code",
      "metadata": {
        "colab": {
          "base_uri": "https://localhost:8080/",
          "height": 204
        },
        "id": "zvOkv_KNiKoK",
        "outputId": "c8f114c9-3970-4bc8-a316-45b6096f2538"
      },
      "source": [
        "data.head()"
      ],
      "execution_count": null,
      "outputs": [
        {
          "output_type": "execute_result",
          "data": {
            "text/html": [
              "<div>\n",
              "<style scoped>\n",
              "    .dataframe tbody tr th:only-of-type {\n",
              "        vertical-align: middle;\n",
              "    }\n",
              "\n",
              "    .dataframe tbody tr th {\n",
              "        vertical-align: top;\n",
              "    }\n",
              "\n",
              "    .dataframe thead th {\n",
              "        text-align: right;\n",
              "    }\n",
              "</style>\n",
              "<table border=\"1\" class=\"dataframe\">\n",
              "  <thead>\n",
              "    <tr style=\"text-align: right;\">\n",
              "      <th></th>\n",
              "      <th>Loan_ID</th>\n",
              "      <th>Gender</th>\n",
              "      <th>Married</th>\n",
              "      <th>Dependents</th>\n",
              "      <th>Education</th>\n",
              "      <th>Self_Employed</th>\n",
              "      <th>ApplicantIncome</th>\n",
              "      <th>CoapplicantIncome</th>\n",
              "      <th>LoanAmount</th>\n",
              "      <th>Loan_Amount_Term</th>\n",
              "      <th>Credit_History</th>\n",
              "      <th>Property_Area</th>\n",
              "      <th>Loan_Status</th>\n",
              "      <th>rb_LoanAmount</th>\n",
              "      <th>rb_ApplicantIncome</th>\n",
              "      <th>Group</th>\n",
              "    </tr>\n",
              "  </thead>\n",
              "  <tbody>\n",
              "    <tr>\n",
              "      <th>0</th>\n",
              "      <td>LP001003</td>\n",
              "      <td>Male</td>\n",
              "      <td>Yes</td>\n",
              "      <td>1</td>\n",
              "      <td>Graduate</td>\n",
              "      <td>No</td>\n",
              "      <td>4583</td>\n",
              "      <td>1508.0</td>\n",
              "      <td>128.0</td>\n",
              "      <td>360.0</td>\n",
              "      <td>1.0</td>\n",
              "      <td>Rural</td>\n",
              "      <td>N</td>\n",
              "      <td>0.486486</td>\n",
              "      <td>0.740521</td>\n",
              "      <td>3</td>\n",
              "    </tr>\n",
              "    <tr>\n",
              "      <th>1</th>\n",
              "      <td>LP001005</td>\n",
              "      <td>Male</td>\n",
              "      <td>Yes</td>\n",
              "      <td>0</td>\n",
              "      <td>Graduate</td>\n",
              "      <td>Yes</td>\n",
              "      <td>3000</td>\n",
              "      <td>0.0</td>\n",
              "      <td>66.0</td>\n",
              "      <td>360.0</td>\n",
              "      <td>1.0</td>\n",
              "      <td>Urban</td>\n",
              "      <td>Y</td>\n",
              "      <td>-1.189189</td>\n",
              "      <td>-0.197275</td>\n",
              "      <td>1</td>\n",
              "    </tr>\n",
              "    <tr>\n",
              "      <th>2</th>\n",
              "      <td>LP001006</td>\n",
              "      <td>Male</td>\n",
              "      <td>Yes</td>\n",
              "      <td>0</td>\n",
              "      <td>Not Graduate</td>\n",
              "      <td>No</td>\n",
              "      <td>2583</td>\n",
              "      <td>2358.0</td>\n",
              "      <td>120.0</td>\n",
              "      <td>360.0</td>\n",
              "      <td>1.0</td>\n",
              "      <td>Urban</td>\n",
              "      <td>Y</td>\n",
              "      <td>0.270270</td>\n",
              "      <td>-0.444313</td>\n",
              "      <td>0</td>\n",
              "    </tr>\n",
              "    <tr>\n",
              "      <th>3</th>\n",
              "      <td>LP001008</td>\n",
              "      <td>Male</td>\n",
              "      <td>No</td>\n",
              "      <td>0</td>\n",
              "      <td>Graduate</td>\n",
              "      <td>No</td>\n",
              "      <td>6000</td>\n",
              "      <td>0.0</td>\n",
              "      <td>141.0</td>\n",
              "      <td>360.0</td>\n",
              "      <td>1.0</td>\n",
              "      <td>Urban</td>\n",
              "      <td>Y</td>\n",
              "      <td>0.837838</td>\n",
              "      <td>1.579976</td>\n",
              "      <td>2</td>\n",
              "    </tr>\n",
              "    <tr>\n",
              "      <th>4</th>\n",
              "      <td>LP001013</td>\n",
              "      <td>Male</td>\n",
              "      <td>Yes</td>\n",
              "      <td>0</td>\n",
              "      <td>Not Graduate</td>\n",
              "      <td>No</td>\n",
              "      <td>2333</td>\n",
              "      <td>1516.0</td>\n",
              "      <td>95.0</td>\n",
              "      <td>360.0</td>\n",
              "      <td>1.0</td>\n",
              "      <td>Urban</td>\n",
              "      <td>Y</td>\n",
              "      <td>-0.405405</td>\n",
              "      <td>-0.592417</td>\n",
              "      <td>0</td>\n",
              "    </tr>\n",
              "  </tbody>\n",
              "</table>\n",
              "</div>"
            ],
            "text/plain": [
              "    Loan_ID Gender Married  ... rb_LoanAmount rb_ApplicantIncome Group\n",
              "0  LP001003   Male     Yes  ...      0.486486           0.740521     3\n",
              "1  LP001005   Male     Yes  ...     -1.189189          -0.197275     1\n",
              "2  LP001006   Male     Yes  ...      0.270270          -0.444313     0\n",
              "3  LP001008   Male      No  ...      0.837838           1.579976     2\n",
              "4  LP001013   Male     Yes  ...     -0.405405          -0.592417     0\n",
              "\n",
              "[5 rows x 16 columns]"
            ]
          },
          "metadata": {
            "tags": []
          },
          "execution_count": 102
        }
      ]
    },
    {
      "cell_type": "code",
      "metadata": {
        "colab": {
          "base_uri": "https://localhost:8080/",
          "height": 204
        },
        "id": "Ht7DOb_3eoqa",
        "outputId": "a57d38ec-ce4a-45e6-ef1d-5166a50c4706"
      },
      "source": [
        "# chuyen cot gender thanh cot du lieu kieu so\n",
        "data['Gender_Male'] = pd.get_dummies(data['Gender'], drop_first=True)\n",
        "data.head()"
      ],
      "execution_count": null,
      "outputs": [
        {
          "output_type": "execute_result",
          "data": {
            "text/html": [
              "<div>\n",
              "<style scoped>\n",
              "    .dataframe tbody tr th:only-of-type {\n",
              "        vertical-align: middle;\n",
              "    }\n",
              "\n",
              "    .dataframe tbody tr th {\n",
              "        vertical-align: top;\n",
              "    }\n",
              "\n",
              "    .dataframe thead th {\n",
              "        text-align: right;\n",
              "    }\n",
              "</style>\n",
              "<table border=\"1\" class=\"dataframe\">\n",
              "  <thead>\n",
              "    <tr style=\"text-align: right;\">\n",
              "      <th></th>\n",
              "      <th>Loan_ID</th>\n",
              "      <th>Gender</th>\n",
              "      <th>Married</th>\n",
              "      <th>Dependents</th>\n",
              "      <th>Education</th>\n",
              "      <th>Self_Employed</th>\n",
              "      <th>ApplicantIncome</th>\n",
              "      <th>CoapplicantIncome</th>\n",
              "      <th>LoanAmount</th>\n",
              "      <th>Loan_Amount_Term</th>\n",
              "      <th>Credit_History</th>\n",
              "      <th>Property_Area</th>\n",
              "      <th>Loan_Status</th>\n",
              "      <th>rb_LoanAmount</th>\n",
              "      <th>rb_ApplicantIncome</th>\n",
              "      <th>Group</th>\n",
              "      <th>Gender_Male</th>\n",
              "    </tr>\n",
              "  </thead>\n",
              "  <tbody>\n",
              "    <tr>\n",
              "      <th>0</th>\n",
              "      <td>LP001003</td>\n",
              "      <td>Male</td>\n",
              "      <td>Yes</td>\n",
              "      <td>1</td>\n",
              "      <td>Graduate</td>\n",
              "      <td>No</td>\n",
              "      <td>4583</td>\n",
              "      <td>1508.0</td>\n",
              "      <td>128.0</td>\n",
              "      <td>360.0</td>\n",
              "      <td>1.0</td>\n",
              "      <td>Rural</td>\n",
              "      <td>N</td>\n",
              "      <td>0.486486</td>\n",
              "      <td>0.740521</td>\n",
              "      <td>3</td>\n",
              "      <td>1</td>\n",
              "    </tr>\n",
              "    <tr>\n",
              "      <th>1</th>\n",
              "      <td>LP001005</td>\n",
              "      <td>Male</td>\n",
              "      <td>Yes</td>\n",
              "      <td>0</td>\n",
              "      <td>Graduate</td>\n",
              "      <td>Yes</td>\n",
              "      <td>3000</td>\n",
              "      <td>0.0</td>\n",
              "      <td>66.0</td>\n",
              "      <td>360.0</td>\n",
              "      <td>1.0</td>\n",
              "      <td>Urban</td>\n",
              "      <td>Y</td>\n",
              "      <td>-1.189189</td>\n",
              "      <td>-0.197275</td>\n",
              "      <td>1</td>\n",
              "      <td>1</td>\n",
              "    </tr>\n",
              "    <tr>\n",
              "      <th>2</th>\n",
              "      <td>LP001006</td>\n",
              "      <td>Male</td>\n",
              "      <td>Yes</td>\n",
              "      <td>0</td>\n",
              "      <td>Not Graduate</td>\n",
              "      <td>No</td>\n",
              "      <td>2583</td>\n",
              "      <td>2358.0</td>\n",
              "      <td>120.0</td>\n",
              "      <td>360.0</td>\n",
              "      <td>1.0</td>\n",
              "      <td>Urban</td>\n",
              "      <td>Y</td>\n",
              "      <td>0.270270</td>\n",
              "      <td>-0.444313</td>\n",
              "      <td>0</td>\n",
              "      <td>1</td>\n",
              "    </tr>\n",
              "    <tr>\n",
              "      <th>3</th>\n",
              "      <td>LP001008</td>\n",
              "      <td>Male</td>\n",
              "      <td>No</td>\n",
              "      <td>0</td>\n",
              "      <td>Graduate</td>\n",
              "      <td>No</td>\n",
              "      <td>6000</td>\n",
              "      <td>0.0</td>\n",
              "      <td>141.0</td>\n",
              "      <td>360.0</td>\n",
              "      <td>1.0</td>\n",
              "      <td>Urban</td>\n",
              "      <td>Y</td>\n",
              "      <td>0.837838</td>\n",
              "      <td>1.579976</td>\n",
              "      <td>2</td>\n",
              "      <td>1</td>\n",
              "    </tr>\n",
              "    <tr>\n",
              "      <th>4</th>\n",
              "      <td>LP001013</td>\n",
              "      <td>Male</td>\n",
              "      <td>Yes</td>\n",
              "      <td>0</td>\n",
              "      <td>Not Graduate</td>\n",
              "      <td>No</td>\n",
              "      <td>2333</td>\n",
              "      <td>1516.0</td>\n",
              "      <td>95.0</td>\n",
              "      <td>360.0</td>\n",
              "      <td>1.0</td>\n",
              "      <td>Urban</td>\n",
              "      <td>Y</td>\n",
              "      <td>-0.405405</td>\n",
              "      <td>-0.592417</td>\n",
              "      <td>0</td>\n",
              "      <td>1</td>\n",
              "    </tr>\n",
              "  </tbody>\n",
              "</table>\n",
              "</div>"
            ],
            "text/plain": [
              "    Loan_ID Gender Married  ... rb_ApplicantIncome Group Gender_Male\n",
              "0  LP001003   Male     Yes  ...           0.740521     3           1\n",
              "1  LP001005   Male     Yes  ...          -0.197275     1           1\n",
              "2  LP001006   Male     Yes  ...          -0.444313     0           1\n",
              "3  LP001008   Male      No  ...           1.579976     2           1\n",
              "4  LP001013   Male     Yes  ...          -0.592417     0           1\n",
              "\n",
              "[5 rows x 17 columns]"
            ]
          },
          "metadata": {
            "tags": []
          },
          "execution_count": 103
        }
      ]
    },
    {
      "cell_type": "code",
      "metadata": {
        "colab": {
          "base_uri": "https://localhost:8080/"
        },
        "id": "XoBt3XTuie_O",
        "outputId": "1bd054b6-2cc9-44ee-df25-f21df1891bdb"
      },
      "source": [
        "from sklearn.cluster import KMeans\n",
        "from sklearn import metrics\n",
        "from scipy.spatial.distance import cdist\n",
        "distortions = []\n",
        "K = range(2,8)\n",
        "for k in K:\n",
        "  kmeanModel = KMeans(n_clusters=k)\n",
        "  kmeanModel.fit(data[['rb_ApplicantIncome','rb_LoanAmount','Gender_Male']])\n",
        "  distortions.append(sum(np.min(cdist(data[['rb_ApplicantIncome','rb_LoanAmount','Gender_Male']],kmeanModel.cluster_centers_,'euclidean'),axis=1))/data[['rb_ApplicantIncome','rb_LoanAmount','Gender_Male']].shape[0])\n",
        "distortions"
      ],
      "execution_count": null,
      "outputs": [
        {
          "output_type": "execute_result",
          "data": {
            "text/plain": [
              "[0.8789063990724097,\n",
              " 0.7474988131425553,\n",
              " 0.677010604020581,\n",
              " 0.5959446255235864,\n",
              " 0.5578433116318132,\n",
              " 0.5233748732273364]"
            ]
          },
          "metadata": {
            "tags": []
          },
          "execution_count": 106
        }
      ]
    },
    {
      "cell_type": "code",
      "metadata": {
        "colab": {
          "base_uri": "https://localhost:8080/",
          "height": 295
        },
        "id": "i6_6Gplyie_Q",
        "outputId": "02c6090b-335f-4757-c341-d617ff651018"
      },
      "source": [
        "plt.plot(K, distortions, 'rx-')\n",
        "plt.xlabel('k')\n",
        "plt.ylabel('Distortion')\n",
        "plt.title('The Elbow Method showing the optimal k')\n",
        "plt.show()"
      ],
      "execution_count": null,
      "outputs": [
        {
          "output_type": "display_data",
          "data": {
            "image/png": "[encoded data removed]",
            "text/plain": [
              "<Figure size 432x288 with 1 Axes>"
            ]
          },
          "metadata": {
            "tags": [],
            "needs_background": "light"
          }
        }
      ]
    },
    {
      "cell_type": "markdown",
      "metadata": {
        "id": "nARM_bDai2ms"
      },
      "source": [
        "**Chọn k=5 vì lỗi giảm dần và mịn**"
      ]
    },
    {
      "cell_type": "code",
      "metadata": {
        "colab": {
          "base_uri": "https://localhost:8080/"
        },
        "id": "-3EaBj2Fi2ms",
        "outputId": "dc8a8524-0f57-4f82-a3b5-ddb71730d74b"
      },
      "source": [
        "# \n",
        "kmeans_3 = KMeans(n_clusters=5)\n",
        "kmeans_3.fit(data[['rb_ApplicantIncome','rb_LoanAmount','Gender_Male']])"
      ],
      "execution_count": null,
      "outputs": [
        {
          "output_type": "execute_result",
          "data": {
            "text/plain": [
              "KMeans(algorithm='auto', copy_x=True, init='k-means++', max_iter=300,\n",
              "       n_clusters=5, n_init=10, n_jobs=None, precompute_distances='auto',\n",
              "       random_state=None, tol=0.0001, verbose=0)"
            ]
          },
          "metadata": {
            "tags": []
          },
          "execution_count": 111
        }
      ]
    },
    {
      "cell_type": "code",
      "metadata": {
        "colab": {
          "base_uri": "https://localhost:8080/"
        },
        "id": "0iOouBCEi2mt",
        "outputId": "bdbf559e-8a68-4884-9197-19469f4674ef"
      },
      "source": [
        "centroids_3 = kmeans_3.cluster_centers_\n",
        "labels_3 = kmeans.labels_\n",
        "print('Centroids in robust scaler:')\n",
        "print(centroids_3)\n",
        "print(labels_3)\n"
      ],
      "execution_count": null,
      "outputs": [
        {
          "output_type": "stream",
          "text": [
            "Centroids in robust scaler:\n",
            "[[-1.88850249e-01 -1.35591436e+00  7.66233766e-01]\n",
            " [ 1.94346215e+00  4.17879418e-01  8.97435897e-01]\n",
            " [-5.45961690e-01 -2.98423423e-02  9.68750000e-01]\n",
            " [ 3.65754876e-01  3.23284823e-01  1.00000000e+00]\n",
            " [ 1.35936930e-01  8.81496881e-02  8.88178420e-16]]\n",
            "[0 2 4 1 4 2 4 4 2 0 0 2 0 4 1 4 3 4 0 2 3 2 0 0 4 3 0 2 2 2 0 0 3 2 1 3 3\n",
            " 4 3 3 0 4 4 0 0 4 4 3 0 1 3 4 2 0 0 4 0 3 2 4 4 4 0 2 0 2 3 2 0 4 0 4 1 4\n",
            " 1 3 0 4 2 3 2 3 2 2 2 0 3 4 0 4 3 2 0 1 4 2 4 4 0 1 3 4 2 4 2 0 0 4 0 4 2\n",
            " 2 3 2 2 2 2 0 3 3 4 0 0 3 3 2 2 0 0 1 0 0 4 0 2 3 2 0 0 1 0 4 2 0 0 3 3 4\n",
            " 1 4 1 0 1 1 1 4 4 3 4 1 0 0 4 1 0 0 3 3 2 4 0 0 4 2 3 0 2 2 4 3 0 3 0 0 0\n",
            " 1 0 3 4 4 4 3 4 0 3 3 3 4 2 1 0 0 4 3 4 0 3 0 3 2 0 4 2 2 2 2 2 4 0 4 3 3\n",
            " 3 2 4 3 0 4 1 1 4 0 4 3 0 1 0 2 1 0 1 0 0 4 4 1 4 4 4 0 2 4 0 4 2 2 4 2 3\n",
            " 4 2 2 4 2 4 0 1 2 4 1 4 3 1 4 2 1 1 4 0 2 1 0 0 0 2 0 4 2 0 4 1 0 0 0 1 3\n",
            " 0 1 2 4 0 4 0 3 3 4 4 4 2 2 4 0 0 3 4 0 4 4 3 0 0 3 0 0 2 0 3 0 3 2 2 1 0\n",
            " 4 1 0 0 4 0 2 3 3 3 4 3 2 4 3 4 0 2 3 0 1 0 2 0 2 4 1 4 3 4 4 4 2 2 0 4 2\n",
            " 3 4 2 0 0 4 1 4 2 2 3]\n"
          ],
          "name": "stdout"
        }
      ]
    },
    {
      "cell_type": "markdown",
      "metadata": {
        "id": "MY5qx-TKi2mt"
      },
      "source": [
        "**Report**"
      ]
    },
    {
      "cell_type": "code",
      "metadata": {
        "colab": {
          "base_uri": "https://localhost:8080/",
          "height": 258
        },
        "id": "DJECtpG7i2mt",
        "outputId": "96bd5c52-3edd-4e0f-ac13-1b9656aacee0"
      },
      "source": [
        "data[\"Group_3\"] = pd.Series(labels_3)\n",
        "data.head()"
      ],
      "execution_count": null,
      "outputs": [
        {
          "output_type": "execute_result",
          "data": {
            "text/html": [
              "<div>\n",
              "<style scoped>\n",
              "    .dataframe tbody tr th:only-of-type {\n",
              "        vertical-align: middle;\n",
              "    }\n",
              "\n",
              "    .dataframe tbody tr th {\n",
              "        vertical-align: top;\n",
              "    }\n",
              "\n",
              "    .dataframe thead th {\n",
              "        text-align: right;\n",
              "    }\n",
              "</style>\n",
              "<table border=\"1\" class=\"dataframe\">\n",
              "  <thead>\n",
              "    <tr style=\"text-align: right;\">\n",
              "      <th></th>\n",
              "      <th>Loan_ID</th>\n",
              "      <th>Gender</th>\n",
              "      <th>Married</th>\n",
              "      <th>Dependents</th>\n",
              "      <th>Education</th>\n",
              "      <th>Self_Employed</th>\n",
              "      <th>ApplicantIncome</th>\n",
              "      <th>CoapplicantIncome</th>\n",
              "      <th>LoanAmount</th>\n",
              "      <th>Loan_Amount_Term</th>\n",
              "      <th>Credit_History</th>\n",
              "      <th>Property_Area</th>\n",
              "      <th>Loan_Status</th>\n",
              "      <th>rb_LoanAmount</th>\n",
              "      <th>rb_ApplicantIncome</th>\n",
              "      <th>Group</th>\n",
              "      <th>Gender_Male</th>\n",
              "      <th>Group_3</th>\n",
              "    </tr>\n",
              "  </thead>\n",
              "  <tbody>\n",
              "    <tr>\n",
              "      <th>0</th>\n",
              "      <td>LP001003</td>\n",
              "      <td>Male</td>\n",
              "      <td>Yes</td>\n",
              "      <td>1</td>\n",
              "      <td>Graduate</td>\n",
              "      <td>No</td>\n",
              "      <td>4583</td>\n",
              "      <td>1508.0</td>\n",
              "      <td>128.0</td>\n",
              "      <td>360.0</td>\n",
              "      <td>1.0</td>\n",
              "      <td>Rural</td>\n",
              "      <td>N</td>\n",
              "      <td>0.486486</td>\n",
              "      <td>0.740521</td>\n",
              "      <td>3</td>\n",
              "      <td>1</td>\n",
              "      <td>0</td>\n",
              "    </tr>\n",
              "    <tr>\n",
              "      <th>1</th>\n",
              "      <td>LP001005</td>\n",
              "      <td>Male</td>\n",
              "      <td>Yes</td>\n",
              "      <td>0</td>\n",
              "      <td>Graduate</td>\n",
              "      <td>Yes</td>\n",
              "      <td>3000</td>\n",
              "      <td>0.0</td>\n",
              "      <td>66.0</td>\n",
              "      <td>360.0</td>\n",
              "      <td>1.0</td>\n",
              "      <td>Urban</td>\n",
              "      <td>Y</td>\n",
              "      <td>-1.189189</td>\n",
              "      <td>-0.197275</td>\n",
              "      <td>1</td>\n",
              "      <td>1</td>\n",
              "      <td>2</td>\n",
              "    </tr>\n",
              "    <tr>\n",
              "      <th>2</th>\n",
              "      <td>LP001006</td>\n",
              "      <td>Male</td>\n",
              "      <td>Yes</td>\n",
              "      <td>0</td>\n",
              "      <td>Not Graduate</td>\n",
              "      <td>No</td>\n",
              "      <td>2583</td>\n",
              "      <td>2358.0</td>\n",
              "      <td>120.0</td>\n",
              "      <td>360.0</td>\n",
              "      <td>1.0</td>\n",
              "      <td>Urban</td>\n",
              "      <td>Y</td>\n",
              "      <td>0.270270</td>\n",
              "      <td>-0.444313</td>\n",
              "      <td>0</td>\n",
              "      <td>1</td>\n",
              "      <td>4</td>\n",
              "    </tr>\n",
              "    <tr>\n",
              "      <th>3</th>\n",
              "      <td>LP001008</td>\n",
              "      <td>Male</td>\n",
              "      <td>No</td>\n",
              "      <td>0</td>\n",
              "      <td>Graduate</td>\n",
              "      <td>No</td>\n",
              "      <td>6000</td>\n",
              "      <td>0.0</td>\n",
              "      <td>141.0</td>\n",
              "      <td>360.0</td>\n",
              "      <td>1.0</td>\n",
              "      <td>Urban</td>\n",
              "      <td>Y</td>\n",
              "      <td>0.837838</td>\n",
              "      <td>1.579976</td>\n",
              "      <td>2</td>\n",
              "      <td>1</td>\n",
              "      <td>1</td>\n",
              "    </tr>\n",
              "    <tr>\n",
              "      <th>4</th>\n",
              "      <td>LP001013</td>\n",
              "      <td>Male</td>\n",
              "      <td>Yes</td>\n",
              "      <td>0</td>\n",
              "      <td>Not Graduate</td>\n",
              "      <td>No</td>\n",
              "      <td>2333</td>\n",
              "      <td>1516.0</td>\n",
              "      <td>95.0</td>\n",
              "      <td>360.0</td>\n",
              "      <td>1.0</td>\n",
              "      <td>Urban</td>\n",
              "      <td>Y</td>\n",
              "      <td>-0.405405</td>\n",
              "      <td>-0.592417</td>\n",
              "      <td>0</td>\n",
              "      <td>1</td>\n",
              "      <td>4</td>\n",
              "    </tr>\n",
              "  </tbody>\n",
              "</table>\n",
              "</div>"
            ],
            "text/plain": [
              "    Loan_ID Gender Married  ... Group Gender_Male Group_3\n",
              "0  LP001003   Male     Yes  ...     3           1       0\n",
              "1  LP001005   Male     Yes  ...     1           1       2\n",
              "2  LP001006   Male     Yes  ...     0           1       4\n",
              "3  LP001008   Male      No  ...     2           1       1\n",
              "4  LP001013   Male     Yes  ...     0           1       4\n",
              "\n",
              "[5 rows x 18 columns]"
            ]
          },
          "metadata": {
            "tags": []
          },
          "execution_count": 113
        }
      ]
    },
    {
      "cell_type": "code",
      "metadata": {
        "colab": {
          "base_uri": "https://localhost:8080/"
        },
        "id": "BY2uCF3Ii2mt",
        "outputId": "2902d88d-745c-4d97-99f9-41c6dc655b43"
      },
      "source": [
        "data.Group_3.value_counts()"
      ],
      "execution_count": null,
      "outputs": [
        {
          "output_type": "execute_result",
          "data": {
            "text/plain": [
              "0    104\n",
              "4     97\n",
              "2     77\n",
              "3     64\n",
              "1     39\n",
              "Name: Group_3, dtype: int64"
            ]
          },
          "metadata": {
            "tags": []
          },
          "execution_count": 114
        }
      ]
    },
    {
      "cell_type": "code",
      "metadata": {
        "colab": {
          "base_uri": "https://localhost:8080/"
        },
        "id": "-pVnQ8bMi2mt",
        "outputId": "711f34d5-c57c-47ee-bea0-69e952c338bb"
      },
      "source": [
        "for i in range(5):\n",
        "  print('Group:',i)\n",
        "  print('min LoanAmount = ',data[data['Group_3']==i]['LoanAmount'].min())\n",
        "  print('max LoanAmount = ',data[data['Group_3']==i]['LoanAmount'].max())\n",
        "  print('min ApplicantIncome = ',data[data['Group_3']==i]['ApplicantIncome'].min())\n",
        "  print('max ApplicantIncome = ',data[data['Group_3']==i]['ApplicantIncome'].max())\n",
        "  print('Gender',data[data['Group_3']==i]['Gender_Male'].unique())\n",
        "  print('*'*30)"
      ],
      "execution_count": null,
      "outputs": [
        {
          "output_type": "stream",
          "text": [
            "Group: 0\n",
            "min LoanAmount =  87.0\n",
            "max LoanAmount =  150.0\n",
            "min ApplicantIncome =  2620\n",
            "max ApplicantIncome =  5250\n",
            "Gender [1]\n",
            "******************************\n",
            "Group: 1\n",
            "min LoanAmount =  75.0\n",
            "max LoanAmount =  150.0\n",
            "min ApplicantIncome =  5316\n",
            "max ApplicantIncome =  9703\n",
            "Gender [1 0]\n",
            "******************************\n",
            "Group: 2\n",
            "min LoanAmount =  9.0\n",
            "max LoanAmount =  81.0\n",
            "min ApplicantIncome =  1299\n",
            "max ApplicantIncome =  5649\n",
            "Gender [1 0]\n",
            "******************************\n",
            "Group: 3\n",
            "min LoanAmount =  80.0\n",
            "max LoanAmount =  144.0\n",
            "min ApplicantIncome =  1907\n",
            "max ApplicantIncome =  5500\n",
            "Gender [0]\n",
            "******************************\n",
            "Group: 4\n",
            "min LoanAmount =  85.0\n",
            "max LoanAmount =  145.0\n",
            "min ApplicantIncome =  150\n",
            "max ApplicantIncome =  3333\n",
            "Gender [1 0]\n",
            "******************************\n"
          ],
          "name": "stdout"
        }
      ]
    },
    {
      "cell_type": "markdown",
      "metadata": {
        "id": "kcZjeml-m8PL"
      },
      "source": [
        "**Data được chia thành 5 nhóm, gồm 1 nhóm chỉ có nam, 1 nhóm chỉ có nữ, 3 nhóm có cả nam và nữ, với giới hạn Income là LoanAmount như số liệu**"
      ]
    },
    {
      "cell_type": "code",
      "metadata": {
        "colab": {
          "base_uri": "https://localhost:8080/",
          "height": 592
        },
        "id": "cCj2MAkckibn",
        "outputId": "eca1fa3d-d139-4e61-b385-9be4081d9a6b"
      },
      "source": [
        "from mpl_toolkits.mplot3d import axes3d\n",
        "fig = plt.figure(figsize=(10,10))\n",
        "ax = fig.add_subplot(111,projection='3d')\n",
        "ax.scatter(data.LoanAmount,data.ApplicantIncome,data.Gender_Male,cmap='rainbow',s=data.LoanAmount,c=data.Group_3)\n",
        "ax.set_xlabel('LoanAmount')\n",
        "ax.set_ylabel('ApplicantIncome')\n",
        "ax.set_zlabel('Gender')"
      ],
      "execution_count": null,
      "outputs": [
        {
          "output_type": "execute_result",
          "data": {
            "text/plain": [
              "Text(0.5, 0, 'Gender')"
            ]
          },
          "metadata": {
            "tags": []
          },
          "execution_count": 122
        },
        {
          "output_type": "display_data",
          "data": {
            "image/png": "[encoded data removed]",
            "text/plain": [
              "<Figure size 720x720 with 1 Axes>"
            ]
          },
          "metadata": {
            "tags": [],
            "needs_background": "light"
          }
        }
      ]
    },
    {
      "cell_type": "markdown",
      "metadata": {
        "id": "a9QXPN5Gofd8"
      },
      "source": [
        "**Cả 3 yếu tố đều có ảnh hưởng đến việc chia nhóm dữ liệu**"
      ]
    },
    {
      "cell_type": "code",
      "metadata": {
        "id": "7EkJ6a-Xmd4U"
      },
      "source": [
        ""
      ],
      "execution_count": null,
      "outputs": []
    }
  ]
}