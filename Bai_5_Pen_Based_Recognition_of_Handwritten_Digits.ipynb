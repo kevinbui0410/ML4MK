{
  "nbformat": 4,
  "nbformat_minor": 0,
  "metadata": {
    "colab": {
      "name": "Bai 5 Pen-Based Recognition of Handwritten Digits.ipynb",
      "provenance": [],
      "collapsed_sections": [],
      "authorship_tag": "ABX9TyM3g+vX3T7+2ZUduFZgn5IK",
      "include_colab_link": true
    },
    "kernelspec": {
      "name": "python3",
      "display_name": "Python 3"
    }
  },
  "cells": [
    {
      "cell_type": "markdown",
      "metadata": {
        "id": "view-in-github",
        "colab_type": "text"
      },
      "source": [
        "<a href=\"https://colab.research.google.com/github/kevinbui0410/ML4MK/blob/main/Bai_5_Pen_Based_Recognition_of_Handwritten_Digits.ipynb\" target=\"_parent\"><img src=\"https://colab.research.google.com/assets/colab-badge.svg\" alt=\"Open In Colab\"/></a>"
      ]
    },
    {
      "cell_type": "markdown",
      "metadata": {
        "id": "qhXKHHU5Qqzr"
      },
      "source": [
        "**Step 1: Business Understanding**\n",
        "\n",
        "Phân loại chữ viết tay dựa vào mẫu trong file csv "
      ]
    },
    {
      "cell_type": "code",
      "metadata": {
        "colab": {
          "base_uri": "https://localhost:8080/"
        },
        "id": "k9YBqv9PQEsh",
        "outputId": "e525f5d9-60c1-41fa-baae-c68ffe1865de"
      },
      "source": [
        "from google.colab import drive\n",
        "drive.mount('/content/drive',force_remount=True)"
      ],
      "execution_count": null,
      "outputs": [
        {
          "output_type": "stream",
          "text": [
            "Mounted at /content/drive\n"
          ],
          "name": "stdout"
        }
      ]
    },
    {
      "cell_type": "code",
      "metadata": {
        "id": "dPqEmf9mRGzz"
      },
      "source": [
        "import pandas as pd\n",
        "import numpy as np\n",
        "import matplotlib.pyplot as plt\n",
        "import seaborn as sns"
      ],
      "execution_count": null,
      "outputs": []
    },
    {
      "cell_type": "markdown",
      "metadata": {
        "id": "IPE_VcZKRck5"
      },
      "source": [
        "**Step 2:Data Understanding/Acquire**\n",
        "\n",
        "Data đã được cung cấp trong file penbased-5an-nn.csv\n"
      ]
    },
    {
      "cell_type": "markdown",
      "metadata": {
        "id": "_rTuI4cfSCRZ"
      },
      "source": [
        "**Step 3: Data prepartion/Prepare**"
      ]
    },
    {
      "cell_type": "code",
      "metadata": {
        "id": "NlDtUORLRZu0"
      },
      "source": [
        "path = '/content/drive/My Drive/LDS6_Bui_Thanh_Quang/LDS6_Bui_Thanh_Quang_Thi/'"
      ],
      "execution_count": null,
      "outputs": []
    },
    {
      "cell_type": "code",
      "metadata": {
        "id": "7aQMdIxcS0Gp"
      },
      "source": [
        "data = pd.read_csv(path+'data/penbased-5an-nn.csv',header=None)"
      ],
      "execution_count": null,
      "outputs": []
    },
    {
      "cell_type": "code",
      "metadata": {
        "colab": {
          "base_uri": "https://localhost:8080/"
        },
        "id": "eJygKpUY11Do",
        "outputId": "23a32a6c-05f6-4ef9-a920-62ccacf91ce5"
      },
      "source": [
        "data.info()"
      ],
      "execution_count": null,
      "outputs": [
        {
          "output_type": "stream",
          "text": [
            "<class 'pandas.core.frame.DataFrame'>\n",
            "RangeIndex: 10992 entries, 0 to 10991\n",
            "Data columns (total 17 columns):\n",
            " #   Column  Non-Null Count  Dtype\n",
            "---  ------  --------------  -----\n",
            " 0   0       10992 non-null  int64\n",
            " 1   1       10992 non-null  int64\n",
            " 2   2       10992 non-null  int64\n",
            " 3   3       10992 non-null  int64\n",
            " 4   4       10992 non-null  int64\n",
            " 5   5       10992 non-null  int64\n",
            " 6   6       10992 non-null  int64\n",
            " 7   7       10992 non-null  int64\n",
            " 8   8       10992 non-null  int64\n",
            " 9   9       10992 non-null  int64\n",
            " 10  10      10992 non-null  int64\n",
            " 11  11      10992 non-null  int64\n",
            " 12  12      10992 non-null  int64\n",
            " 13  13      10992 non-null  int64\n",
            " 14  14      10992 non-null  int64\n",
            " 15  15      10992 non-null  int64\n",
            " 16  16      10992 non-null  int64\n",
            "dtypes: int64(17)\n",
            "memory usage: 1.4 MB\n"
          ],
          "name": "stdout"
        }
      ]
    },
    {
      "cell_type": "code",
      "metadata": {
        "colab": {
          "base_uri": "https://localhost:8080/",
          "height": 204
        },
        "id": "_-OPYIhI147Z",
        "outputId": "48cf31cc-1408-4864-8a32-fe90eca49988"
      },
      "source": [
        "data.head()"
      ],
      "execution_count": null,
      "outputs": [
        {
          "output_type": "execute_result",
          "data": {
            "text/html": [
              "<div>\n",
              "<style scoped>\n",
              "    .dataframe tbody tr th:only-of-type {\n",
              "        vertical-align: middle;\n",
              "    }\n",
              "\n",
              "    .dataframe tbody tr th {\n",
              "        vertical-align: top;\n",
              "    }\n",
              "\n",
              "    .dataframe thead th {\n",
              "        text-align: right;\n",
              "    }\n",
              "</style>\n",
              "<table border=\"1\" class=\"dataframe\">\n",
              "  <thead>\n",
              "    <tr style=\"text-align: right;\">\n",
              "      <th></th>\n",
              "      <th>0</th>\n",
              "      <th>1</th>\n",
              "      <th>2</th>\n",
              "      <th>3</th>\n",
              "      <th>4</th>\n",
              "      <th>5</th>\n",
              "      <th>6</th>\n",
              "      <th>7</th>\n",
              "      <th>8</th>\n",
              "      <th>9</th>\n",
              "      <th>10</th>\n",
              "      <th>11</th>\n",
              "      <th>12</th>\n",
              "      <th>13</th>\n",
              "      <th>14</th>\n",
              "      <th>15</th>\n",
              "      <th>16</th>\n",
              "    </tr>\n",
              "  </thead>\n",
              "  <tbody>\n",
              "    <tr>\n",
              "      <th>0</th>\n",
              "      <td>0</td>\n",
              "      <td>57</td>\n",
              "      <td>31</td>\n",
              "      <td>68</td>\n",
              "      <td>72</td>\n",
              "      <td>90</td>\n",
              "      <td>100</td>\n",
              "      <td>100</td>\n",
              "      <td>76</td>\n",
              "      <td>75</td>\n",
              "      <td>50</td>\n",
              "      <td>51</td>\n",
              "      <td>28</td>\n",
              "      <td>25</td>\n",
              "      <td>16</td>\n",
              "      <td>0</td>\n",
              "      <td>1</td>\n",
              "    </tr>\n",
              "    <tr>\n",
              "      <th>1</th>\n",
              "      <td>99</td>\n",
              "      <td>80</td>\n",
              "      <td>63</td>\n",
              "      <td>100</td>\n",
              "      <td>25</td>\n",
              "      <td>76</td>\n",
              "      <td>79</td>\n",
              "      <td>68</td>\n",
              "      <td>100</td>\n",
              "      <td>62</td>\n",
              "      <td>97</td>\n",
              "      <td>23</td>\n",
              "      <td>54</td>\n",
              "      <td>0</td>\n",
              "      <td>0</td>\n",
              "      <td>16</td>\n",
              "      <td>9</td>\n",
              "    </tr>\n",
              "    <tr>\n",
              "      <th>2</th>\n",
              "      <td>0</td>\n",
              "      <td>73</td>\n",
              "      <td>19</td>\n",
              "      <td>99</td>\n",
              "      <td>72</td>\n",
              "      <td>100</td>\n",
              "      <td>70</td>\n",
              "      <td>73</td>\n",
              "      <td>32</td>\n",
              "      <td>48</td>\n",
              "      <td>5</td>\n",
              "      <td>18</td>\n",
              "      <td>46</td>\n",
              "      <td>0</td>\n",
              "      <td>100</td>\n",
              "      <td>72</td>\n",
              "      <td>2</td>\n",
              "    </tr>\n",
              "    <tr>\n",
              "      <th>3</th>\n",
              "      <td>12</td>\n",
              "      <td>77</td>\n",
              "      <td>20</td>\n",
              "      <td>62</td>\n",
              "      <td>78</td>\n",
              "      <td>40</td>\n",
              "      <td>50</td>\n",
              "      <td>0</td>\n",
              "      <td>1</td>\n",
              "      <td>17</td>\n",
              "      <td>0</td>\n",
              "      <td>64</td>\n",
              "      <td>23</td>\n",
              "      <td>98</td>\n",
              "      <td>100</td>\n",
              "      <td>100</td>\n",
              "      <td>5</td>\n",
              "    </tr>\n",
              "    <tr>\n",
              "      <th>4</th>\n",
              "      <td>0</td>\n",
              "      <td>98</td>\n",
              "      <td>36</td>\n",
              "      <td>42</td>\n",
              "      <td>80</td>\n",
              "      <td>85</td>\n",
              "      <td>68</td>\n",
              "      <td>42</td>\n",
              "      <td>56</td>\n",
              "      <td>0</td>\n",
              "      <td>25</td>\n",
              "      <td>23</td>\n",
              "      <td>50</td>\n",
              "      <td>37</td>\n",
              "      <td>100</td>\n",
              "      <td>32</td>\n",
              "      <td>7</td>\n",
              "    </tr>\n",
              "  </tbody>\n",
              "</table>\n",
              "</div>"
            ],
            "text/plain": [
              "   0   1   2    3   4    5    6    7    8   9   10  11  12  13   14   15  16\n",
              "0   0  57  31   68  72   90  100  100   76  75  50  51  28  25   16    0   1\n",
              "1  99  80  63  100  25   76   79   68  100  62  97  23  54   0    0   16   9\n",
              "2   0  73  19   99  72  100   70   73   32  48   5  18  46   0  100   72   2\n",
              "3  12  77  20   62  78   40   50    0    1  17   0  64  23  98  100  100   5\n",
              "4   0  98  36   42  80   85   68   42   56   0  25  23  50  37  100   32   7"
            ]
          },
          "metadata": {
            "tags": []
          },
          "execution_count": 115
        }
      ]
    },
    {
      "cell_type": "markdown",
      "metadata": {
        "id": "-kK1nyEl2i9_"
      },
      "source": [
        "**Dựa vào dữ liệu, có thể thấy data từ column 0 đến 15 là attribute của column 16, có giá trị tư 0 đến 100**\n",
        "\n",
        "**Column 16 là class có giá trị từ 0 đến 9**\n",
        "\n",
        "**Do không thể xác định được mối liên hệ giữa các columns, bài toán này là bài toán phân loại => sử dụng SVM để xử lý**\n"
      ]
    },
    {
      "cell_type": "code",
      "metadata": {
        "id": "qor_ySoF2Npp"
      },
      "source": [
        "X = data.iloc[:,0:15]"
      ],
      "execution_count": null,
      "outputs": []
    },
    {
      "cell_type": "code",
      "metadata": {
        "colab": {
          "base_uri": "https://localhost:8080/",
          "height": 204
        },
        "id": "mABeu5fB3pjZ",
        "outputId": "2dcf25ab-c27e-45ff-8b29-55a3d478bc21"
      },
      "source": [
        "X.head()"
      ],
      "execution_count": null,
      "outputs": [
        {
          "output_type": "execute_result",
          "data": {
            "text/html": [
              "<div>\n",
              "<style scoped>\n",
              "    .dataframe tbody tr th:only-of-type {\n",
              "        vertical-align: middle;\n",
              "    }\n",
              "\n",
              "    .dataframe tbody tr th {\n",
              "        vertical-align: top;\n",
              "    }\n",
              "\n",
              "    .dataframe thead th {\n",
              "        text-align: right;\n",
              "    }\n",
              "</style>\n",
              "<table border=\"1\" class=\"dataframe\">\n",
              "  <thead>\n",
              "    <tr style=\"text-align: right;\">\n",
              "      <th></th>\n",
              "      <th>0</th>\n",
              "      <th>1</th>\n",
              "      <th>2</th>\n",
              "      <th>3</th>\n",
              "      <th>4</th>\n",
              "      <th>5</th>\n",
              "      <th>6</th>\n",
              "      <th>7</th>\n",
              "      <th>8</th>\n",
              "      <th>9</th>\n",
              "      <th>10</th>\n",
              "      <th>11</th>\n",
              "      <th>12</th>\n",
              "      <th>13</th>\n",
              "      <th>14</th>\n",
              "    </tr>\n",
              "  </thead>\n",
              "  <tbody>\n",
              "    <tr>\n",
              "      <th>0</th>\n",
              "      <td>0</td>\n",
              "      <td>57</td>\n",
              "      <td>31</td>\n",
              "      <td>68</td>\n",
              "      <td>72</td>\n",
              "      <td>90</td>\n",
              "      <td>100</td>\n",
              "      <td>100</td>\n",
              "      <td>76</td>\n",
              "      <td>75</td>\n",
              "      <td>50</td>\n",
              "      <td>51</td>\n",
              "      <td>28</td>\n",
              "      <td>25</td>\n",
              "      <td>16</td>\n",
              "    </tr>\n",
              "    <tr>\n",
              "      <th>1</th>\n",
              "      <td>99</td>\n",
              "      <td>80</td>\n",
              "      <td>63</td>\n",
              "      <td>100</td>\n",
              "      <td>25</td>\n",
              "      <td>76</td>\n",
              "      <td>79</td>\n",
              "      <td>68</td>\n",
              "      <td>100</td>\n",
              "      <td>62</td>\n",
              "      <td>97</td>\n",
              "      <td>23</td>\n",
              "      <td>54</td>\n",
              "      <td>0</td>\n",
              "      <td>0</td>\n",
              "    </tr>\n",
              "    <tr>\n",
              "      <th>2</th>\n",
              "      <td>0</td>\n",
              "      <td>73</td>\n",
              "      <td>19</td>\n",
              "      <td>99</td>\n",
              "      <td>72</td>\n",
              "      <td>100</td>\n",
              "      <td>70</td>\n",
              "      <td>73</td>\n",
              "      <td>32</td>\n",
              "      <td>48</td>\n",
              "      <td>5</td>\n",
              "      <td>18</td>\n",
              "      <td>46</td>\n",
              "      <td>0</td>\n",
              "      <td>100</td>\n",
              "    </tr>\n",
              "    <tr>\n",
              "      <th>3</th>\n",
              "      <td>12</td>\n",
              "      <td>77</td>\n",
              "      <td>20</td>\n",
              "      <td>62</td>\n",
              "      <td>78</td>\n",
              "      <td>40</td>\n",
              "      <td>50</td>\n",
              "      <td>0</td>\n",
              "      <td>1</td>\n",
              "      <td>17</td>\n",
              "      <td>0</td>\n",
              "      <td>64</td>\n",
              "      <td>23</td>\n",
              "      <td>98</td>\n",
              "      <td>100</td>\n",
              "    </tr>\n",
              "    <tr>\n",
              "      <th>4</th>\n",
              "      <td>0</td>\n",
              "      <td>98</td>\n",
              "      <td>36</td>\n",
              "      <td>42</td>\n",
              "      <td>80</td>\n",
              "      <td>85</td>\n",
              "      <td>68</td>\n",
              "      <td>42</td>\n",
              "      <td>56</td>\n",
              "      <td>0</td>\n",
              "      <td>25</td>\n",
              "      <td>23</td>\n",
              "      <td>50</td>\n",
              "      <td>37</td>\n",
              "      <td>100</td>\n",
              "    </tr>\n",
              "  </tbody>\n",
              "</table>\n",
              "</div>"
            ],
            "text/plain": [
              "   0   1   2    3   4    5    6    7    8   9   10  11  12  13   14\n",
              "0   0  57  31   68  72   90  100  100   76  75  50  51  28  25   16\n",
              "1  99  80  63  100  25   76   79   68  100  62  97  23  54   0    0\n",
              "2   0  73  19   99  72  100   70   73   32  48   5  18  46   0  100\n",
              "3  12  77  20   62  78   40   50    0    1  17   0  64  23  98  100\n",
              "4   0  98  36   42  80   85   68   42   56   0  25  23  50  37  100"
            ]
          },
          "metadata": {
            "tags": []
          },
          "execution_count": 117
        }
      ]
    },
    {
      "cell_type": "code",
      "metadata": {
        "colab": {
          "base_uri": "https://localhost:8080/"
        },
        "id": "0qkxfeg237Hc",
        "outputId": "f6011e03-5e60-473b-97f1-7087f1b50e9a"
      },
      "source": [
        "X.shape"
      ],
      "execution_count": null,
      "outputs": [
        {
          "output_type": "execute_result",
          "data": {
            "text/plain": [
              "(10992, 15)"
            ]
          },
          "metadata": {
            "tags": []
          },
          "execution_count": 118
        }
      ]
    },
    {
      "cell_type": "code",
      "metadata": {
        "colab": {
          "base_uri": "https://localhost:8080/"
        },
        "id": "_8IOB6Ue3rbl",
        "outputId": "a30f92f3-a1f2-479d-e8f4-be1abe49260e"
      },
      "source": [
        "y = data.iloc[:,16]\n",
        "y.head()"
      ],
      "execution_count": null,
      "outputs": [
        {
          "output_type": "execute_result",
          "data": {
            "text/plain": [
              "0    1\n",
              "1    9\n",
              "2    2\n",
              "3    5\n",
              "4    7\n",
              "Name: 16, dtype: int64"
            ]
          },
          "metadata": {
            "tags": []
          },
          "execution_count": 119
        }
      ]
    },
    {
      "cell_type": "code",
      "metadata": {
        "colab": {
          "base_uri": "https://localhost:8080/"
        },
        "id": "7cBAmfa_39Ue",
        "outputId": "68d618c9-2051-4f1f-b0c7-a6918c2a25ff"
      },
      "source": [
        "y.shape"
      ],
      "execution_count": null,
      "outputs": [
        {
          "output_type": "execute_result",
          "data": {
            "text/plain": [
              "(10992,)"
            ]
          },
          "metadata": {
            "tags": []
          },
          "execution_count": 120
        }
      ]
    },
    {
      "cell_type": "code",
      "metadata": {
        "colab": {
          "base_uri": "https://localhost:8080/"
        },
        "id": "OJVDhAtr_Vpz",
        "outputId": "60b2bcb4-dc6d-4b46-d264-4bb908eea8b5"
      },
      "source": [
        "import datetime\n",
        "x1 = datetime.datetime.now()\n",
        "print(x1)"
      ],
      "execution_count": null,
      "outputs": [
        {
          "output_type": "stream",
          "text": [
            "2020-11-29 07:56:55.216159\n"
          ],
          "name": "stdout"
        }
      ]
    },
    {
      "cell_type": "code",
      "metadata": {
        "id": "yCiHj8dl3Uef"
      },
      "source": [
        "from sklearn.model_selection import train_test_split\n",
        "X_train, X_test, y_train, y_test = train_test_split(X,y,test_size=0.3)"
      ],
      "execution_count": null,
      "outputs": []
    },
    {
      "cell_type": "code",
      "metadata": {
        "id": "jkFJyo_x3RiP"
      },
      "source": [
        "from sklearn import svm"
      ],
      "execution_count": null,
      "outputs": []
    },
    {
      "cell_type": "code",
      "metadata": {
        "id": "VhUV15q03X8I",
        "colab": {
          "base_uri": "https://localhost:8080/"
        },
        "outputId": "ec913d8b-1ac5-4338-e847-230c426ba2d6"
      },
      "source": [
        "clf = svm.SVC(gamma=0.001, C=100)\n",
        "clf.fit(X_train,y_train)"
      ],
      "execution_count": null,
      "outputs": [
        {
          "output_type": "execute_result",
          "data": {
            "text/plain": [
              "SVC(C=100, break_ties=False, cache_size=200, class_weight=None, coef0=0.0,\n",
              "    decision_function_shape='ovr', degree=3, gamma=0.001, kernel='rbf',\n",
              "    max_iter=-1, probability=False, random_state=None, shrinking=True,\n",
              "    tol=0.001, verbose=False)"
            ]
          },
          "metadata": {
            "tags": []
          },
          "execution_count": 124
        }
      ]
    },
    {
      "cell_type": "code",
      "metadata": {
        "colab": {
          "base_uri": "https://localhost:8080/"
        },
        "id": "LNfwDeDo_hn-",
        "outputId": "b7dc7849-7757-48f4-ec04-a0830d139f37"
      },
      "source": [
        "x1_end=datetime.datetime.now()\n",
        "print(x1_end)\n",
        "x1_distance = x1_end - x1"
      ],
      "execution_count": null,
      "outputs": [
        {
          "output_type": "stream",
          "text": [
            "2020-11-29 07:57:00.350872\n"
          ],
          "name": "stdout"
        }
      ]
    },
    {
      "cell_type": "code",
      "metadata": {
        "id": "LKKioiMr4spn"
      },
      "source": [
        "y_pred = clf.predict(X_test)"
      ],
      "execution_count": null,
      "outputs": []
    },
    {
      "cell_type": "code",
      "metadata": {
        "id": "0iXYH-r541VX",
        "colab": {
          "base_uri": "https://localhost:8080/"
        },
        "outputId": "25803823-f627-4f1d-88b2-5b4491e658b9"
      },
      "source": [
        "clf.score(X_test,y_test)"
      ],
      "execution_count": null,
      "outputs": [
        {
          "output_type": "execute_result",
          "data": {
            "text/plain": [
              "0.8875075803517283"
            ]
          },
          "metadata": {
            "tags": []
          },
          "execution_count": 127
        }
      ]
    },
    {
      "cell_type": "code",
      "metadata": {
        "id": "1NWEvX8B47sQ",
        "colab": {
          "base_uri": "https://localhost:8080/"
        },
        "outputId": "135b0219-3e4b-4596-b542-48d5659453e8"
      },
      "source": [
        "clf.score(X_train,y_train)"
      ],
      "execution_count": null,
      "outputs": [
        {
          "output_type": "execute_result",
          "data": {
            "text/plain": [
              "1.0"
            ]
          },
          "metadata": {
            "tags": []
          },
          "execution_count": 128
        }
      ]
    },
    {
      "cell_type": "code",
      "metadata": {
        "id": "OSDF-4mS5BXX",
        "colab": {
          "base_uri": "https://localhost:8080/"
        },
        "outputId": "52e399a2-241f-4d9d-c085-31779689b72e"
      },
      "source": [
        "from sklearn.metrics import accuracy_score\n",
        "accuracy_score(y_test, y_pred)*100"
      ],
      "execution_count": null,
      "outputs": [
        {
          "output_type": "execute_result",
          "data": {
            "text/plain": [
              "88.75075803517282"
            ]
          },
          "metadata": {
            "tags": []
          },
          "execution_count": 129
        }
      ]
    },
    {
      "cell_type": "code",
      "metadata": {
        "id": "w7ce0K8r6EMv",
        "colab": {
          "base_uri": "https://localhost:8080/"
        },
        "outputId": "e0258c0e-774a-4d15-9d94-8ec4b4f91dc5"
      },
      "source": [
        "from sklearn.metrics import classification_report, confusion_matrix\n",
        "print(confusion_matrix(y_test,y_pred))\n",
        "print(classification_report(y_test,y_pred))"
      ],
      "execution_count": null,
      "outputs": [
        {
          "output_type": "stream",
          "text": [
            "[[299   0   0   0   1   0   1   0  35   0]\n",
            " [  0 283  10   3   1   0   0   2  22   1]\n",
            " [  0  11 301   1   0   0   0   2  30   0]\n",
            " [  0   2   1 292   0   1   0   2  35   1]\n",
            " [  2   0   0   0 305   0   1   0  34   0]\n",
            " [  0   0   0   4   0 304   0   0  47   8]\n",
            " [  0   0   0   0   0   0 275   0  29   0]\n",
            " [  0   9   4   1   0   0   0 285  44   0]\n",
            " [  0   0   0   0   0   0   0   0 305   0]\n",
            " [  0   0   0   0   0   0   0   2  24 278]]\n",
            "              precision    recall  f1-score   support\n",
            "\n",
            "           0       0.99      0.89      0.94       336\n",
            "           1       0.93      0.88      0.90       322\n",
            "           2       0.95      0.87      0.91       345\n",
            "           3       0.97      0.87      0.92       334\n",
            "           4       0.99      0.89      0.94       342\n",
            "           5       1.00      0.84      0.91       363\n",
            "           6       0.99      0.90      0.95       304\n",
            "           7       0.97      0.83      0.90       343\n",
            "           8       0.50      1.00      0.67       305\n",
            "           9       0.97      0.91      0.94       304\n",
            "\n",
            "    accuracy                           0.89      3298\n",
            "   macro avg       0.93      0.89      0.90      3298\n",
            "weighted avg       0.93      0.89      0.90      3298\n",
            "\n"
          ],
          "name": "stdout"
        }
      ]
    },
    {
      "cell_type": "markdown",
      "metadata": {
        "id": "_bUhOmU85TUt"
      },
      "source": [
        "**Precision của 8 thấp hơn rất nhiều so với các số còn lại**\n",
        "\n",
        "**Recall của 7 là thấp nhất**"
      ]
    },
    {
      "cell_type": "code",
      "metadata": {
        "colab": {
          "base_uri": "https://localhost:8080/",
          "height": 609
        },
        "id": "42-gRoWA5uUL",
        "outputId": "731f4b9d-2025-4022-cd9f-cde6fe6bdc57"
      },
      "source": [
        "plt.figure(figsize=(16,10))\n",
        "sns.heatmap(confusion_matrix(y_test,y_pred),cmap='RdYlGn',annot=True,fmt='g')"
      ],
      "execution_count": null,
      "outputs": [
        {
          "output_type": "execute_result",
          "data": {
            "text/plain": [
              "<matplotlib.axes._subplots.AxesSubplot at 0x7f0763813ef0>"
            ]
          },
          "metadata": {
            "tags": []
          },
          "execution_count": 131
        },
        {
          "output_type": "display_data",
          "data": {
            "image/png": "[encoded data removed]",
            "text/plain": [
              "<Figure size 1152x720 with 2 Axes>"
            ]
          },
          "metadata": {
            "tags": [],
            "needs_background": "light"
          }
        }
      ]
    },
    {
      "cell_type": "markdown",
      "metadata": {
        "id": "GeXFRofY5uyf"
      },
      "source": [
        "**Dựa vào heatmap ta thấy số lượng các số bị dự đoán nhầm vào 8 là rất cao**"
      ]
    },
    {
      "cell_type": "markdown",
      "metadata": {
        "id": "3f8M1Lw46-AV"
      },
      "source": [
        "**Yêu cầu 2: Giảm chiều dữ liệu bằng PCA và thực hiện lại thuật toán**"
      ]
    },
    {
      "cell_type": "code",
      "metadata": {
        "id": "U-NuxDm05FB0"
      },
      "source": [
        "from sklearn.decomposition import PCA"
      ],
      "execution_count": null,
      "outputs": []
    },
    {
      "cell_type": "code",
      "metadata": {
        "id": "isvYh72T_vtw"
      },
      "source": [
        "pca = PCA(n_components=8)"
      ],
      "execution_count": null,
      "outputs": []
    },
    {
      "cell_type": "code",
      "metadata": {
        "id": "b8I4D2_IBKc-"
      },
      "source": [
        "principalComponents = pca.fit_transform(X)"
      ],
      "execution_count": null,
      "outputs": []
    },
    {
      "cell_type": "code",
      "metadata": {
        "id": "64FSBYrcBPzV"
      },
      "source": [
        "principalDf = pd.DataFrame(data = principalComponents, columns=['principal component 1','principal component 2',\n",
        "                                                                'principal component 3','principal component 4',\n",
        "                                                                'principal component 5','principal component 6',\n",
        "                                                                'principal component 7','principal component 8'])"
      ],
      "execution_count": null,
      "outputs": []
    },
    {
      "cell_type": "code",
      "metadata": {
        "colab": {
          "base_uri": "https://localhost:8080/",
          "height": 204
        },
        "id": "2GcPmxbCBevF",
        "outputId": "457be8d5-14c2-4251-c9b2-fe479414e20f"
      },
      "source": [
        "finalDf = pd.concat([principalDf,y],axis=1)\n",
        "finalDf.head()"
      ],
      "execution_count": null,
      "outputs": [
        {
          "output_type": "execute_result",
          "data": {
            "text/html": [
              "<div>\n",
              "<style scoped>\n",
              "    .dataframe tbody tr th:only-of-type {\n",
              "        vertical-align: middle;\n",
              "    }\n",
              "\n",
              "    .dataframe tbody tr th {\n",
              "        vertical-align: top;\n",
              "    }\n",
              "\n",
              "    .dataframe thead th {\n",
              "        text-align: right;\n",
              "    }\n",
              "</style>\n",
              "<table border=\"1\" class=\"dataframe\">\n",
              "  <thead>\n",
              "    <tr style=\"text-align: right;\">\n",
              "      <th></th>\n",
              "      <th>principal component 1</th>\n",
              "      <th>principal component 2</th>\n",
              "      <th>principal component 3</th>\n",
              "      <th>principal component 4</th>\n",
              "      <th>principal component 5</th>\n",
              "      <th>principal component 6</th>\n",
              "      <th>principal component 7</th>\n",
              "      <th>principal component 8</th>\n",
              "      <th>16</th>\n",
              "    </tr>\n",
              "  </thead>\n",
              "  <tbody>\n",
              "    <tr>\n",
              "      <th>0</th>\n",
              "      <td>-3.821427</td>\n",
              "      <td>-75.808407</td>\n",
              "      <td>72.356043</td>\n",
              "      <td>16.325790</td>\n",
              "      <td>11.723467</td>\n",
              "      <td>21.052220</td>\n",
              "      <td>-27.944622</td>\n",
              "      <td>13.204135</td>\n",
              "      <td>1</td>\n",
              "    </tr>\n",
              "    <tr>\n",
              "      <th>1</th>\n",
              "      <td>62.772605</td>\n",
              "      <td>-76.702973</td>\n",
              "      <td>-33.444965</td>\n",
              "      <td>-19.281978</td>\n",
              "      <td>46.432382</td>\n",
              "      <td>-1.532667</td>\n",
              "      <td>8.310228</td>\n",
              "      <td>-12.905273</td>\n",
              "      <td>9</td>\n",
              "    </tr>\n",
              "    <tr>\n",
              "      <th>2</th>\n",
              "      <td>-99.292124</td>\n",
              "      <td>-25.259477</td>\n",
              "      <td>31.704498</td>\n",
              "      <td>-29.841899</td>\n",
              "      <td>-3.501268</td>\n",
              "      <td>10.034916</td>\n",
              "      <td>-30.700588</td>\n",
              "      <td>1.476098</td>\n",
              "      <td>2</td>\n",
              "    </tr>\n",
              "    <tr>\n",
              "      <th>3</th>\n",
              "      <td>-67.762664</td>\n",
              "      <td>103.625937</td>\n",
              "      <td>45.449702</td>\n",
              "      <td>45.238361</td>\n",
              "      <td>4.268568</td>\n",
              "      <td>20.330724</td>\n",
              "      <td>-0.891011</td>\n",
              "      <td>11.453669</td>\n",
              "      <td>5</td>\n",
              "    </tr>\n",
              "    <tr>\n",
              "      <th>4</th>\n",
              "      <td>-70.691073</td>\n",
              "      <td>18.552960</td>\n",
              "      <td>36.921736</td>\n",
              "      <td>-0.131716</td>\n",
              "      <td>-7.973548</td>\n",
              "      <td>-20.849483</td>\n",
              "      <td>10.697012</td>\n",
              "      <td>-2.910007</td>\n",
              "      <td>7</td>\n",
              "    </tr>\n",
              "  </tbody>\n",
              "</table>\n",
              "</div>"
            ],
            "text/plain": [
              "   principal component 1  principal component 2  ...  principal component 8  16\n",
              "0              -3.821427             -75.808407  ...              13.204135   1\n",
              "1              62.772605             -76.702973  ...             -12.905273   9\n",
              "2             -99.292124             -25.259477  ...               1.476098   2\n",
              "3             -67.762664             103.625937  ...              11.453669   5\n",
              "4             -70.691073              18.552960  ...              -2.910007   7\n",
              "\n",
              "[5 rows x 9 columns]"
            ]
          },
          "metadata": {
            "tags": []
          },
          "execution_count": 136
        }
      ]
    },
    {
      "cell_type": "code",
      "metadata": {
        "colab": {
          "base_uri": "https://localhost:8080/"
        },
        "id": "wKSe1SSkB-k8",
        "outputId": "6187d0f9-edc2-453c-b8f0-fb2cd6d5d467"
      },
      "source": [
        "pca.explained_variance_ratio_"
      ],
      "execution_count": null,
      "outputs": [
        {
          "output_type": "execute_result",
          "data": {
            "text/plain": [
              "array([0.25141337, 0.22906668, 0.15698582, 0.08483457, 0.06340157,\n",
              "       0.05331832, 0.03322941, 0.03040313])"
            ]
          },
          "metadata": {
            "tags": []
          },
          "execution_count": 137
        }
      ]
    },
    {
      "cell_type": "code",
      "metadata": {
        "colab": {
          "base_uri": "https://localhost:8080/"
        },
        "id": "qbkELp5DC2s1",
        "outputId": "9fdc902e-251c-4620-b45a-bc77ec617ff9"
      },
      "source": [
        "pca.explained_variance_ratio_.sum()"
      ],
      "execution_count": null,
      "outputs": [
        {
          "output_type": "execute_result",
          "data": {
            "text/plain": [
              "0.902652876459618"
            ]
          },
          "metadata": {
            "tags": []
          },
          "execution_count": 138
        }
      ]
    },
    {
      "cell_type": "markdown",
      "metadata": {
        "id": "CRnvXQzs8LNr"
      },
      "source": [
        "**Giữ lại được 90% thông tin nếu quyết định giảm nửa chiều dữ liệu**\n",
        "\n",
        "**thực hiện lại model với bộ dữ liệu đã giảm chiều**"
      ]
    },
    {
      "cell_type": "code",
      "metadata": {
        "id": "95qLDGr58pgo"
      },
      "source": [
        "X_pca = finalDf.iloc[:,0:8]"
      ],
      "execution_count": null,
      "outputs": []
    },
    {
      "cell_type": "code",
      "metadata": {
        "colab": {
          "base_uri": "https://localhost:8080/",
          "height": 204
        },
        "id": "GLuKxJIV8pgp",
        "outputId": "8c88d30b-ceec-4ede-a4b8-404b8d642998"
      },
      "source": [
        "X_pca.head()"
      ],
      "execution_count": null,
      "outputs": [
        {
          "output_type": "execute_result",
          "data": {
            "text/html": [
              "<div>\n",
              "<style scoped>\n",
              "    .dataframe tbody tr th:only-of-type {\n",
              "        vertical-align: middle;\n",
              "    }\n",
              "\n",
              "    .dataframe tbody tr th {\n",
              "        vertical-align: top;\n",
              "    }\n",
              "\n",
              "    .dataframe thead th {\n",
              "        text-align: right;\n",
              "    }\n",
              "</style>\n",
              "<table border=\"1\" class=\"dataframe\">\n",
              "  <thead>\n",
              "    <tr style=\"text-align: right;\">\n",
              "      <th></th>\n",
              "      <th>principal component 1</th>\n",
              "      <th>principal component 2</th>\n",
              "      <th>principal component 3</th>\n",
              "      <th>principal component 4</th>\n",
              "      <th>principal component 5</th>\n",
              "      <th>principal component 6</th>\n",
              "      <th>principal component 7</th>\n",
              "      <th>principal component 8</th>\n",
              "    </tr>\n",
              "  </thead>\n",
              "  <tbody>\n",
              "    <tr>\n",
              "      <th>0</th>\n",
              "      <td>-3.821427</td>\n",
              "      <td>-75.808407</td>\n",
              "      <td>72.356043</td>\n",
              "      <td>16.325790</td>\n",
              "      <td>11.723467</td>\n",
              "      <td>21.052220</td>\n",
              "      <td>-27.944622</td>\n",
              "      <td>13.204135</td>\n",
              "    </tr>\n",
              "    <tr>\n",
              "      <th>1</th>\n",
              "      <td>62.772605</td>\n",
              "      <td>-76.702973</td>\n",
              "      <td>-33.444965</td>\n",
              "      <td>-19.281978</td>\n",
              "      <td>46.432382</td>\n",
              "      <td>-1.532667</td>\n",
              "      <td>8.310228</td>\n",
              "      <td>-12.905273</td>\n",
              "    </tr>\n",
              "    <tr>\n",
              "      <th>2</th>\n",
              "      <td>-99.292124</td>\n",
              "      <td>-25.259477</td>\n",
              "      <td>31.704498</td>\n",
              "      <td>-29.841899</td>\n",
              "      <td>-3.501268</td>\n",
              "      <td>10.034916</td>\n",
              "      <td>-30.700588</td>\n",
              "      <td>1.476098</td>\n",
              "    </tr>\n",
              "    <tr>\n",
              "      <th>3</th>\n",
              "      <td>-67.762664</td>\n",
              "      <td>103.625937</td>\n",
              "      <td>45.449702</td>\n",
              "      <td>45.238361</td>\n",
              "      <td>4.268568</td>\n",
              "      <td>20.330724</td>\n",
              "      <td>-0.891011</td>\n",
              "      <td>11.453669</td>\n",
              "    </tr>\n",
              "    <tr>\n",
              "      <th>4</th>\n",
              "      <td>-70.691073</td>\n",
              "      <td>18.552960</td>\n",
              "      <td>36.921736</td>\n",
              "      <td>-0.131716</td>\n",
              "      <td>-7.973548</td>\n",
              "      <td>-20.849483</td>\n",
              "      <td>10.697012</td>\n",
              "      <td>-2.910007</td>\n",
              "    </tr>\n",
              "  </tbody>\n",
              "</table>\n",
              "</div>"
            ],
            "text/plain": [
              "   principal component 1  ...  principal component 8\n",
              "0              -3.821427  ...              13.204135\n",
              "1              62.772605  ...             -12.905273\n",
              "2             -99.292124  ...               1.476098\n",
              "3             -67.762664  ...              11.453669\n",
              "4             -70.691073  ...              -2.910007\n",
              "\n",
              "[5 rows x 8 columns]"
            ]
          },
          "metadata": {
            "tags": []
          },
          "execution_count": 140
        }
      ]
    },
    {
      "cell_type": "code",
      "metadata": {
        "colab": {
          "base_uri": "https://localhost:8080/"
        },
        "id": "P1Q_LGKs8pgq",
        "outputId": "6aef9d44-2a5b-4f98-feb0-dc2bb7a85b29"
      },
      "source": [
        "y_pca = data.iloc[:,16]\n",
        "y_pca.head()"
      ],
      "execution_count": null,
      "outputs": [
        {
          "output_type": "execute_result",
          "data": {
            "text/plain": [
              "0    1\n",
              "1    9\n",
              "2    2\n",
              "3    5\n",
              "4    7\n",
              "Name: 16, dtype: int64"
            ]
          },
          "metadata": {
            "tags": []
          },
          "execution_count": 141
        }
      ]
    },
    {
      "cell_type": "code",
      "metadata": {
        "colab": {
          "base_uri": "https://localhost:8080/"
        },
        "id": "SeH6iX5a_vgI",
        "outputId": "98df1f9e-378b-46cb-e382-ca12d72bd99d"
      },
      "source": [
        "x2 = datetime.datetime.now()\n",
        "print(x2)"
      ],
      "execution_count": null,
      "outputs": [
        {
          "output_type": "stream",
          "text": [
            "2020-11-29 07:57:04.811874\n"
          ],
          "name": "stdout"
        }
      ]
    },
    {
      "cell_type": "code",
      "metadata": {
        "id": "X0ByMiYv85W5"
      },
      "source": [
        "from sklearn.model_selection import train_test_split\n",
        "X_pca_train, X_pca_test, y_pca_train, y_pca_test = train_test_split(X_pca,y_pca,test_size=0.3)"
      ],
      "execution_count": null,
      "outputs": []
    },
    {
      "cell_type": "code",
      "metadata": {
        "id": "QoYMGAUZ85W5"
      },
      "source": [
        "from sklearn import svm"
      ],
      "execution_count": null,
      "outputs": []
    },
    {
      "cell_type": "code",
      "metadata": {
        "colab": {
          "base_uri": "https://localhost:8080/"
        },
        "id": "dAHzAeQ485W5",
        "outputId": "b0544824-accc-4b82-8103-6b8074e1888b"
      },
      "source": [
        "clf_pca = svm.SVC(gamma=0.001, C=100)\n",
        "clf_pca.fit(X_pca_train,y_pca_train)"
      ],
      "execution_count": null,
      "outputs": [
        {
          "output_type": "execute_result",
          "data": {
            "text/plain": [
              "SVC(C=100, break_ties=False, cache_size=200, class_weight=None, coef0=0.0,\n",
              "    decision_function_shape='ovr', degree=3, gamma=0.001, kernel='rbf',\n",
              "    max_iter=-1, probability=False, random_state=None, shrinking=True,\n",
              "    tol=0.001, verbose=False)"
            ]
          },
          "metadata": {
            "tags": []
          },
          "execution_count": 145
        }
      ]
    },
    {
      "cell_type": "code",
      "metadata": {
        "colab": {
          "base_uri": "https://localhost:8080/"
        },
        "id": "x0YerUU5_2GF",
        "outputId": "67344beb-9b2c-400a-c798-69115afb8e77"
      },
      "source": [
        "x2_end = datetime.datetime.now()\n",
        "print(x2_end)\n",
        "x2_distance = x2_end - x2"
      ],
      "execution_count": null,
      "outputs": [
        {
          "output_type": "stream",
          "text": [
            "2020-11-29 07:57:07.480179\n"
          ],
          "name": "stdout"
        }
      ]
    },
    {
      "cell_type": "code",
      "metadata": {
        "id": "wHaaut3685W5"
      },
      "source": [
        "y_pca_pred = clf_pca.predict(X_pca_test)"
      ],
      "execution_count": null,
      "outputs": []
    },
    {
      "cell_type": "code",
      "metadata": {
        "colab": {
          "base_uri": "https://localhost:8080/"
        },
        "id": "UO0LYvdH85W6",
        "outputId": "d38a8ff1-f351-4b3c-cd2f-2061815dc356"
      },
      "source": [
        "clf_pca.score(X_pca_test,y_pca_test)"
      ],
      "execution_count": null,
      "outputs": [
        {
          "output_type": "execute_result",
          "data": {
            "text/plain": [
              "0.9241964827167981"
            ]
          },
          "metadata": {
            "tags": []
          },
          "execution_count": 148
        }
      ]
    },
    {
      "cell_type": "code",
      "metadata": {
        "colab": {
          "base_uri": "https://localhost:8080/"
        },
        "id": "MPgGxMk785W6",
        "outputId": "7d0529a0-057c-4723-fd07-931d9af9c0d8"
      },
      "source": [
        "clf_pca.score(X_pca_train,y_pca_train)"
      ],
      "execution_count": null,
      "outputs": [
        {
          "output_type": "execute_result",
          "data": {
            "text/plain": [
              "1.0"
            ]
          },
          "metadata": {
            "tags": []
          },
          "execution_count": 149
        }
      ]
    },
    {
      "cell_type": "code",
      "metadata": {
        "colab": {
          "base_uri": "https://localhost:8080/"
        },
        "id": "IK6xGkFJ85W6",
        "outputId": "8a601529-a111-4cd4-d1d3-2065f1ff8572"
      },
      "source": [
        "from sklearn.metrics import accuracy_score\n",
        "accuracy_score(y_pca_test, y_pca_pred)*100"
      ],
      "execution_count": null,
      "outputs": [
        {
          "output_type": "execute_result",
          "data": {
            "text/plain": [
              "92.4196482716798"
            ]
          },
          "metadata": {
            "tags": []
          },
          "execution_count": 150
        }
      ]
    },
    {
      "cell_type": "markdown",
      "metadata": {
        "id": "xLz8iUFQ9cjp"
      },
      "source": [
        "**Kết quả thực hiện tốt, độ chính xác vẫn trên 90%**"
      ]
    },
    {
      "cell_type": "markdown",
      "metadata": {
        "id": "jWsLhrmpAGla"
      },
      "source": [
        "**Chênh lệch thời gian thực hiện**"
      ]
    },
    {
      "cell_type": "code",
      "metadata": {
        "colab": {
          "base_uri": "https://localhost:8080/"
        },
        "id": "N7COHb9cAEiZ",
        "outputId": "56363868-d364-4d66-8896-9080d991326f"
      },
      "source": [
        "print('Chưa có PCA:',x1_distance)\n",
        "print('Có PCA:',x2_distance)"
      ],
      "execution_count": null,
      "outputs": [
        {
          "output_type": "stream",
          "text": [
            "Chưa có PCA: 0:00:05.134713\n",
            "Có PCA: 0:00:02.668305\n"
          ],
          "name": "stdout"
        }
      ]
    },
    {
      "cell_type": "markdown",
      "metadata": {
        "id": "Evt9ks5NAZ29"
      },
      "source": [
        "**Kết quả có giảm thời gian được khoảng 3 giây, có thể xem xét đến việc thực hiện PCA nếu dữ liệu lớn hơn**"
      ]
    },
    {
      "cell_type": "code",
      "metadata": {
        "id": "tOgudTnj92cy"
      },
      "source": [
        ""
      ],
      "execution_count": null,
      "outputs": []
    }
  ]
}