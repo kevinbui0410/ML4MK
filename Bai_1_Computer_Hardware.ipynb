{
  "nbformat": 4,
  "nbformat_minor": 0,
  "metadata": {
    "colab": {
      "name": "Bai 1 Computer Hardware.ipynb",
      "provenance": [],
      "collapsed_sections": [],
      "authorship_tag": "ABX9TyO4pbSzmc6wwpT2sERGr4aw",
      "include_colab_link": true
    },
    "kernelspec": {
      "name": "python3",
      "display_name": "Python 3"
    }
  },
  "cells": [
    {
      "cell_type": "markdown",
      "metadata": {
        "id": "view-in-github",
        "colab_type": "text"
      },
      "source": [
        "<a href=\"https://colab.research.google.com/github/kevinbui0410/ML4MK/blob/main/Bai_1_Computer_Hardware.ipynb\" target=\"_parent\"><img src=\"https://colab.research.google.com/assets/colab-badge.svg\" alt=\"Open In Colab\"/></a>"
      ]
    },
    {
      "cell_type": "markdown",
      "metadata": {
        "id": "qhXKHHU5Qqzr"
      },
      "source": [
        "**Step 1: Business Understanding**\n",
        "\n",
        "Dự đoán giá trị ERP dựa trên các thông tin đã được cung cấp trong file csv"
      ]
    },
    {
      "cell_type": "code",
      "metadata": {
        "colab": {
          "base_uri": "https://localhost:8080/"
        },
        "id": "k9YBqv9PQEsh",
        "outputId": "198462f3-2cbf-46a1-a404-402abb1ef52e"
      },
      "source": [
        "from google.colab import drive\n",
        "drive.mount('/content/drive',force_remount=True)"
      ],
      "execution_count": null,
      "outputs": [
        {
          "output_type": "stream",
          "text": [
            "Mounted at /content/drive\n"
          ],
          "name": "stdout"
        }
      ]
    },
    {
      "cell_type": "code",
      "metadata": {
        "id": "dPqEmf9mRGzz"
      },
      "source": [
        "import pandas as pd\n",
        "import numpy as np\n",
        "import matplotlib.pyplot as plt\n",
        "import seaborn as sns"
      ],
      "execution_count": null,
      "outputs": []
    },
    {
      "cell_type": "markdown",
      "metadata": {
        "id": "IPE_VcZKRck5"
      },
      "source": [
        "**Step 2:Data Understanding/Acquire**\n",
        "\n",
        "Data đã được cung cấp trong file machine.data.txt, gồm 209 dòng và 10 cột.\n",
        "\n",
        "Thông tin chi tiết các cột:\n",
        "\n",
        "Attribute Information:\n",
        "\n",
        "1. vendor name: 30\n",
        "(adviser, amdahl,apollo, basf, bti, burroughs, c.r.d, cambex, cdc, dec,\n",
        "dg, formation, four-phase, gould, honeywell, hp, ibm, ipl, magnuson,\n",
        "microdata, nas, ncr, nixdorf, perkin-elmer, prime, siemens, sperry,\n",
        "sratus, wang)\n",
        "2. Model Name: many unique symbols\n",
        "3. MYCT: machine cycle time in nanoseconds (integer)\n",
        "4. MMIN: minimum main memory in kilobytes (integer)\n",
        "5. MMAX: maximum main memory in kilobytes (integer)\n",
        "6. CACH: cache memory in kilobytes (integer)\n",
        "7. CHMIN: minimum channels in units (integer)\n",
        "8. CHMAX: maximum channels in units (integer)\n",
        "9. PRP: published relative performance (integer)\n",
        "10. ERP: estimated relative performance from the original article (integer)\n",
        "\n",
        "\n"
      ]
    },
    {
      "cell_type": "markdown",
      "metadata": {
        "id": "_rTuI4cfSCRZ"
      },
      "source": [
        "**Step 3: Data prepartion/Prepare**"
      ]
    },
    {
      "cell_type": "code",
      "metadata": {
        "id": "NlDtUORLRZu0"
      },
      "source": [
        "path = '/content/drive/My Drive/LDS6_Bui_Thanh_Quang/LDS6_Bui_Thanh_Quang_Thi/'"
      ],
      "execution_count": null,
      "outputs": []
    },
    {
      "cell_type": "code",
      "metadata": {
        "id": "7aQMdIxcS0Gp"
      },
      "source": [
        "data = pd.read_csv(path+'data/machine.data.txt',header=None)"
      ],
      "execution_count": null,
      "outputs": []
    },
    {
      "cell_type": "code",
      "metadata": {
        "colab": {
          "base_uri": "https://localhost:8080/"
        },
        "id": "MASeJFAuS86U",
        "outputId": "74192c5a-d2f9-471c-a150-206a7ebb07eb"
      },
      "source": [
        "data.info()"
      ],
      "execution_count": null,
      "outputs": [
        {
          "output_type": "stream",
          "text": [
            "<class 'pandas.core.frame.DataFrame'>\n",
            "RangeIndex: 209 entries, 0 to 208\n",
            "Data columns (total 10 columns):\n",
            " #   Column  Non-Null Count  Dtype \n",
            "---  ------  --------------  ----- \n",
            " 0   0       209 non-null    object\n",
            " 1   1       209 non-null    object\n",
            " 2   2       209 non-null    int64 \n",
            " 3   3       209 non-null    int64 \n",
            " 4   4       209 non-null    int64 \n",
            " 5   5       209 non-null    int64 \n",
            " 6   6       209 non-null    int64 \n",
            " 7   7       209 non-null    int64 \n",
            " 8   8       209 non-null    int64 \n",
            " 9   9       209 non-null    int64 \n",
            "dtypes: int64(8), object(2)\n",
            "memory usage: 16.5+ KB\n"
          ],
          "name": "stdout"
        }
      ]
    },
    {
      "cell_type": "code",
      "metadata": {
        "id": "PsLy1ouMXcI8"
      },
      "source": [
        "data.columns=['vendor','model','myct','mmin','mmax','cach','chmin','chmax','prp','erp']"
      ],
      "execution_count": null,
      "outputs": []
    },
    {
      "cell_type": "code",
      "metadata": {
        "colab": {
          "base_uri": "https://localhost:8080/",
          "height": 204
        },
        "id": "RZXt3N3bS-ck",
        "outputId": "1ad9252e-eefe-4960-da40-42c2decb613e"
      },
      "source": [
        "data.head()"
      ],
      "execution_count": null,
      "outputs": [
        {
          "output_type": "execute_result",
          "data": {
            "text/html": [
              "<div>\n",
              "<style scoped>\n",
              "    .dataframe tbody tr th:only-of-type {\n",
              "        vertical-align: middle;\n",
              "    }\n",
              "\n",
              "    .dataframe tbody tr th {\n",
              "        vertical-align: top;\n",
              "    }\n",
              "\n",
              "    .dataframe thead th {\n",
              "        text-align: right;\n",
              "    }\n",
              "</style>\n",
              "<table border=\"1\" class=\"dataframe\">\n",
              "  <thead>\n",
              "    <tr style=\"text-align: right;\">\n",
              "      <th></th>\n",
              "      <th>vendor</th>\n",
              "      <th>model</th>\n",
              "      <th>myct</th>\n",
              "      <th>mmin</th>\n",
              "      <th>mmax</th>\n",
              "      <th>cach</th>\n",
              "      <th>chmin</th>\n",
              "      <th>chmax</th>\n",
              "      <th>prp</th>\n",
              "      <th>erp</th>\n",
              "    </tr>\n",
              "  </thead>\n",
              "  <tbody>\n",
              "    <tr>\n",
              "      <th>0</th>\n",
              "      <td>adviser</td>\n",
              "      <td>32/60</td>\n",
              "      <td>125</td>\n",
              "      <td>256</td>\n",
              "      <td>6000</td>\n",
              "      <td>256</td>\n",
              "      <td>16</td>\n",
              "      <td>128</td>\n",
              "      <td>198</td>\n",
              "      <td>199</td>\n",
              "    </tr>\n",
              "    <tr>\n",
              "      <th>1</th>\n",
              "      <td>amdahl</td>\n",
              "      <td>470v/7</td>\n",
              "      <td>29</td>\n",
              "      <td>8000</td>\n",
              "      <td>32000</td>\n",
              "      <td>32</td>\n",
              "      <td>8</td>\n",
              "      <td>32</td>\n",
              "      <td>269</td>\n",
              "      <td>253</td>\n",
              "    </tr>\n",
              "    <tr>\n",
              "      <th>2</th>\n",
              "      <td>amdahl</td>\n",
              "      <td>470v/7a</td>\n",
              "      <td>29</td>\n",
              "      <td>8000</td>\n",
              "      <td>32000</td>\n",
              "      <td>32</td>\n",
              "      <td>8</td>\n",
              "      <td>32</td>\n",
              "      <td>220</td>\n",
              "      <td>253</td>\n",
              "    </tr>\n",
              "    <tr>\n",
              "      <th>3</th>\n",
              "      <td>amdahl</td>\n",
              "      <td>470v/7b</td>\n",
              "      <td>29</td>\n",
              "      <td>8000</td>\n",
              "      <td>32000</td>\n",
              "      <td>32</td>\n",
              "      <td>8</td>\n",
              "      <td>32</td>\n",
              "      <td>172</td>\n",
              "      <td>253</td>\n",
              "    </tr>\n",
              "    <tr>\n",
              "      <th>4</th>\n",
              "      <td>amdahl</td>\n",
              "      <td>470v/7c</td>\n",
              "      <td>29</td>\n",
              "      <td>8000</td>\n",
              "      <td>16000</td>\n",
              "      <td>32</td>\n",
              "      <td>8</td>\n",
              "      <td>16</td>\n",
              "      <td>132</td>\n",
              "      <td>132</td>\n",
              "    </tr>\n",
              "  </tbody>\n",
              "</table>\n",
              "</div>"
            ],
            "text/plain": [
              "    vendor    model  myct  mmin   mmax  cach  chmin  chmax  prp  erp\n",
              "0  adviser    32/60   125   256   6000   256     16    128  198  199\n",
              "1   amdahl   470v/7    29  8000  32000    32      8     32  269  253\n",
              "2   amdahl  470v/7a    29  8000  32000    32      8     32  220  253\n",
              "3   amdahl  470v/7b    29  8000  32000    32      8     32  172  253\n",
              "4   amdahl  470v/7c    29  8000  16000    32      8     16  132  132"
            ]
          },
          "metadata": {
            "tags": []
          },
          "execution_count": 177
        }
      ]
    },
    {
      "cell_type": "markdown",
      "metadata": {
        "id": "59pKybIoTm3L"
      },
      "source": [
        "**Kiểm tra dữ liệu liên quan và xử lý tiền dữ liệu nếu cần thiết**"
      ]
    },
    {
      "cell_type": "markdown",
      "metadata": {
        "id": "F8kHfDSlVkbC"
      },
      "source": [
        "Đây là bài toán dự đoán 1 giá trị (ERP) dựa trên các giá trị có liên quan, tất cả các cột trong dataset đều có ảnh hưởng đến việc phân loại cột ERP"
      ]
    },
    {
      "cell_type": "code",
      "metadata": {
        "colab": {
          "base_uri": "https://localhost:8080/"
        },
        "id": "Flx7yMTkTBXy",
        "outputId": "65f8fd22-caf9-4c93-b60e-5a9235e742a7"
      },
      "source": [
        "# kiểm tra null\n",
        "data.isnull().sum()"
      ],
      "execution_count": null,
      "outputs": [
        {
          "output_type": "execute_result",
          "data": {
            "text/plain": [
              "vendor    0\n",
              "model     0\n",
              "myct      0\n",
              "mmin      0\n",
              "mmax      0\n",
              "cach      0\n",
              "chmin     0\n",
              "chmax     0\n",
              "prp       0\n",
              "erp       0\n",
              "dtype: int64"
            ]
          },
          "metadata": {
            "tags": []
          },
          "execution_count": 178
        }
      ]
    },
    {
      "cell_type": "code",
      "metadata": {
        "colab": {
          "base_uri": "https://localhost:8080/",
          "height": 297
        },
        "id": "tO0IUGQJaiy2",
        "outputId": "50989220-6148-4d36-a041-8a299f80cd1d"
      },
      "source": [
        "data.describe()"
      ],
      "execution_count": null,
      "outputs": [
        {
          "output_type": "execute_result",
          "data": {
            "text/html": [
              "<div>\n",
              "<style scoped>\n",
              "    .dataframe tbody tr th:only-of-type {\n",
              "        vertical-align: middle;\n",
              "    }\n",
              "\n",
              "    .dataframe tbody tr th {\n",
              "        vertical-align: top;\n",
              "    }\n",
              "\n",
              "    .dataframe thead th {\n",
              "        text-align: right;\n",
              "    }\n",
              "</style>\n",
              "<table border=\"1\" class=\"dataframe\">\n",
              "  <thead>\n",
              "    <tr style=\"text-align: right;\">\n",
              "      <th></th>\n",
              "      <th>myct</th>\n",
              "      <th>mmin</th>\n",
              "      <th>mmax</th>\n",
              "      <th>cach</th>\n",
              "      <th>chmin</th>\n",
              "      <th>chmax</th>\n",
              "      <th>prp</th>\n",
              "      <th>erp</th>\n",
              "    </tr>\n",
              "  </thead>\n",
              "  <tbody>\n",
              "    <tr>\n",
              "      <th>count</th>\n",
              "      <td>209.000000</td>\n",
              "      <td>209.000000</td>\n",
              "      <td>209.000000</td>\n",
              "      <td>209.000000</td>\n",
              "      <td>209.000000</td>\n",
              "      <td>209.000000</td>\n",
              "      <td>209.000000</td>\n",
              "      <td>209.000000</td>\n",
              "    </tr>\n",
              "    <tr>\n",
              "      <th>mean</th>\n",
              "      <td>203.822967</td>\n",
              "      <td>2867.980861</td>\n",
              "      <td>11796.153110</td>\n",
              "      <td>25.205742</td>\n",
              "      <td>4.698565</td>\n",
              "      <td>18.267943</td>\n",
              "      <td>105.622010</td>\n",
              "      <td>99.330144</td>\n",
              "    </tr>\n",
              "    <tr>\n",
              "      <th>std</th>\n",
              "      <td>260.262926</td>\n",
              "      <td>3878.742758</td>\n",
              "      <td>11726.564377</td>\n",
              "      <td>40.628722</td>\n",
              "      <td>6.816274</td>\n",
              "      <td>25.997318</td>\n",
              "      <td>160.830733</td>\n",
              "      <td>154.757102</td>\n",
              "    </tr>\n",
              "    <tr>\n",
              "      <th>min</th>\n",
              "      <td>17.000000</td>\n",
              "      <td>64.000000</td>\n",
              "      <td>64.000000</td>\n",
              "      <td>0.000000</td>\n",
              "      <td>0.000000</td>\n",
              "      <td>0.000000</td>\n",
              "      <td>6.000000</td>\n",
              "      <td>15.000000</td>\n",
              "    </tr>\n",
              "    <tr>\n",
              "      <th>25%</th>\n",
              "      <td>50.000000</td>\n",
              "      <td>768.000000</td>\n",
              "      <td>4000.000000</td>\n",
              "      <td>0.000000</td>\n",
              "      <td>1.000000</td>\n",
              "      <td>5.000000</td>\n",
              "      <td>27.000000</td>\n",
              "      <td>28.000000</td>\n",
              "    </tr>\n",
              "    <tr>\n",
              "      <th>50%</th>\n",
              "      <td>110.000000</td>\n",
              "      <td>2000.000000</td>\n",
              "      <td>8000.000000</td>\n",
              "      <td>8.000000</td>\n",
              "      <td>2.000000</td>\n",
              "      <td>8.000000</td>\n",
              "      <td>50.000000</td>\n",
              "      <td>45.000000</td>\n",
              "    </tr>\n",
              "    <tr>\n",
              "      <th>75%</th>\n",
              "      <td>225.000000</td>\n",
              "      <td>4000.000000</td>\n",
              "      <td>16000.000000</td>\n",
              "      <td>32.000000</td>\n",
              "      <td>6.000000</td>\n",
              "      <td>24.000000</td>\n",
              "      <td>113.000000</td>\n",
              "      <td>101.000000</td>\n",
              "    </tr>\n",
              "    <tr>\n",
              "      <th>max</th>\n",
              "      <td>1500.000000</td>\n",
              "      <td>32000.000000</td>\n",
              "      <td>64000.000000</td>\n",
              "      <td>256.000000</td>\n",
              "      <td>52.000000</td>\n",
              "      <td>176.000000</td>\n",
              "      <td>1150.000000</td>\n",
              "      <td>1238.000000</td>\n",
              "    </tr>\n",
              "  </tbody>\n",
              "</table>\n",
              "</div>"
            ],
            "text/plain": [
              "              myct          mmin  ...          prp          erp\n",
              "count   209.000000    209.000000  ...   209.000000   209.000000\n",
              "mean    203.822967   2867.980861  ...   105.622010    99.330144\n",
              "std     260.262926   3878.742758  ...   160.830733   154.757102\n",
              "min      17.000000     64.000000  ...     6.000000    15.000000\n",
              "25%      50.000000    768.000000  ...    27.000000    28.000000\n",
              "50%     110.000000   2000.000000  ...    50.000000    45.000000\n",
              "75%     225.000000   4000.000000  ...   113.000000   101.000000\n",
              "max    1500.000000  32000.000000  ...  1150.000000  1238.000000\n",
              "\n",
              "[8 rows x 8 columns]"
            ]
          },
          "metadata": {
            "tags": []
          },
          "execution_count": 179
        }
      ]
    },
    {
      "cell_type": "code",
      "metadata": {
        "colab": {
          "base_uri": "https://localhost:8080/",
          "height": 306
        },
        "id": "nn4F4j4PVLDj",
        "outputId": "99d309fc-24f5-4048-f2b7-c18c4ebd3c32"
      },
      "source": [
        "# phân tích đơn biến, trực quan hóa kiểm tra dữ liệu outlier\n",
        "plt.figure(figsize=(8,5))\n",
        "plt.subplot(1,3,1)\n",
        "sns.boxplot(y=data.myct,orient='v')\n",
        "plt.subplot(1,3,2)\n",
        "sns.boxplot(y=data.mmin,orient='v')\n",
        "plt.subplot(1,3,3)\n",
        "sns.boxplot(y=data.mmax,orient='v')\n",
        "plt.show()\n"
      ],
      "execution_count": null,
      "outputs": [
        {
          "output_type": "display_data",
          "data": {
            "image/png": "[encoded data removed]",
            "text/plain": [
              "<Figure size 576x360 with 3 Axes>"
            ]
          },
          "metadata": {
            "tags": [],
            "needs_background": "light"
          }
        }
      ]
    },
    {
      "cell_type": "code",
      "metadata": {
        "colab": {
          "base_uri": "https://localhost:8080/",
          "height": 272
        },
        "id": "48LdwtKmYSxd",
        "outputId": "0e7f4403-3be2-4a5c-8f46-5d83e944abf3"
      },
      "source": [
        "plt.figure(figsize=(10,4))\n",
        "plt.subplot(1,4,1)\n",
        "sns.boxplot(y=data.cach,orient='v')\n",
        "plt.subplot(1,4,2)\n",
        "sns.boxplot(y=data.chmin,orient='v')\n",
        "plt.subplot(1,4,3)\n",
        "sns.boxplot(y=data.chmax,orient='v')\n",
        "plt.subplot(1,4,4)\n",
        "sns.boxplot(y=data.prp,orient='v')"
      ],
      "execution_count": null,
      "outputs": [
        {
          "output_type": "execute_result",
          "data": {
            "text/plain": [
              "<matplotlib.axes._subplots.AxesSubplot at 0x7efc6a885ef0>"
            ]
          },
          "metadata": {
            "tags": []
          },
          "execution_count": 181
        },
        {
          "output_type": "display_data",
          "data": {
            "image/png": "[encoded data removed]",
            "text/plain": [
              "<Figure size 720x288 with 4 Axes>"
            ]
          },
          "metadata": {
            "tags": [],
            "needs_background": "light"
          }
        }
      ]
    },
    {
      "cell_type": "markdown",
      "metadata": {
        "id": "tGDWB5L3Z8yt"
      },
      "source": [
        "**Tất cả các cột đều xuất hiện outlier, outlier của cột prp là nhiều nhất => giảm outlier cho prp**"
      ]
    },
    {
      "cell_type": "code",
      "metadata": {
        "id": "Jl3w7llpgrEN"
      },
      "source": [
        "# hạ bậc để giảm outlier cột prp\n",
        "data.prp = np.log(data.prp)"
      ],
      "execution_count": null,
      "outputs": []
    },
    {
      "cell_type": "code",
      "metadata": {
        "colab": {
          "base_uri": "https://localhost:8080/",
          "height": 269
        },
        "id": "dwMKXmbeis4G",
        "outputId": "16c22044-1318-46ba-aef7-2ecf826104e0"
      },
      "source": [
        "\n",
        "sns.boxplot(y=data.prp,orient='v')"
      ],
      "execution_count": null,
      "outputs": [
        {
          "output_type": "execute_result",
          "data": {
            "text/plain": [
              "<matplotlib.axes._subplots.AxesSubplot at 0x7efc668cef98>"
            ]
          },
          "metadata": {
            "tags": []
          },
          "execution_count": 183
        },
        {
          "output_type": "display_data",
          "data": {
            "image/png": "[encoded data removed]",
            "text/plain": [
              "<Figure size 432x288 with 1 Axes>"
            ]
          },
          "metadata": {
            "tags": [],
            "needs_background": "light"
          }
        }
      ]
    },
    {
      "cell_type": "markdown",
      "metadata": {
        "id": "a9EB5W0powvC"
      },
      "source": [
        "**Chuyển 2 dữ liệu kiểu chuỗi về dữ liệu kiểu số**\n"
      ]
    },
    {
      "cell_type": "code",
      "metadata": {
        "colab": {
          "base_uri": "https://localhost:8080/"
        },
        "id": "iw1gvrjrotyD",
        "outputId": "3a7d752d-88bd-447b-9e7d-50ee6766cd09"
      },
      "source": [
        "data['vendor'].value_counts()"
      ],
      "execution_count": null,
      "outputs": [
        {
          "output_type": "execute_result",
          "data": {
            "text/plain": [
              "ibm             32\n",
              "nas             19\n",
              "honeywell       13\n",
              "ncr             13\n",
              "sperry          13\n",
              "siemens         12\n",
              "amdahl           9\n",
              "cdc              9\n",
              "burroughs        8\n",
              "dg               7\n",
              "harris           7\n",
              "hp               7\n",
              "magnuson         6\n",
              "c.r.d            6\n",
              "ipl              6\n",
              "dec              6\n",
              "cambex           5\n",
              "formation        5\n",
              "prime            5\n",
              "gould            3\n",
              "nixdorf          3\n",
              "perkin-elmer     3\n",
              "bti              2\n",
              "basf             2\n",
              "wang             2\n",
              "apollo           2\n",
              "sratus           1\n",
              "four-phase       1\n",
              "adviser          1\n",
              "microdata        1\n",
              "Name: vendor, dtype: int64"
            ]
          },
          "metadata": {
            "tags": []
          },
          "execution_count": 184
        }
      ]
    },
    {
      "cell_type": "code",
      "metadata": {
        "colab": {
          "base_uri": "https://localhost:8080/",
          "height": 204
        },
        "id": "dpjn5diVqiMq",
        "outputId": "6fbb1c3b-3304-4a66-af67-84da579a031c"
      },
      "source": [
        "from sklearn.preprocessing import OrdinalEncoder\n",
        "\n",
        "ord_enc = OrdinalEncoder()\n",
        "data[\"vendor_num\"] = ord_enc.fit_transform(data[[\"vendor\"]])\n",
        "data.tail()"
      ],
      "execution_count": null,
      "outputs": [
        {
          "output_type": "execute_result",
          "data": {
            "text/html": [
              "<div>\n",
              "<style scoped>\n",
              "    .dataframe tbody tr th:only-of-type {\n",
              "        vertical-align: middle;\n",
              "    }\n",
              "\n",
              "    .dataframe tbody tr th {\n",
              "        vertical-align: top;\n",
              "    }\n",
              "\n",
              "    .dataframe thead th {\n",
              "        text-align: right;\n",
              "    }\n",
              "</style>\n",
              "<table border=\"1\" class=\"dataframe\">\n",
              "  <thead>\n",
              "    <tr style=\"text-align: right;\">\n",
              "      <th></th>\n",
              "      <th>vendor</th>\n",
              "      <th>model</th>\n",
              "      <th>myct</th>\n",
              "      <th>mmin</th>\n",
              "      <th>mmax</th>\n",
              "      <th>cach</th>\n",
              "      <th>chmin</th>\n",
              "      <th>chmax</th>\n",
              "      <th>prp</th>\n",
              "      <th>erp</th>\n",
              "      <th>vendor_num</th>\n",
              "    </tr>\n",
              "  </thead>\n",
              "  <tbody>\n",
              "    <tr>\n",
              "      <th>204</th>\n",
              "      <td>sperry</td>\n",
              "      <td>80/8</td>\n",
              "      <td>124</td>\n",
              "      <td>1000</td>\n",
              "      <td>8000</td>\n",
              "      <td>0</td>\n",
              "      <td>1</td>\n",
              "      <td>8</td>\n",
              "      <td>3.737670</td>\n",
              "      <td>37</td>\n",
              "      <td>27.0</td>\n",
              "    </tr>\n",
              "    <tr>\n",
              "      <th>205</th>\n",
              "      <td>sperry</td>\n",
              "      <td>90/80-model-3</td>\n",
              "      <td>98</td>\n",
              "      <td>1000</td>\n",
              "      <td>8000</td>\n",
              "      <td>32</td>\n",
              "      <td>2</td>\n",
              "      <td>8</td>\n",
              "      <td>3.828641</td>\n",
              "      <td>50</td>\n",
              "      <td>27.0</td>\n",
              "    </tr>\n",
              "    <tr>\n",
              "      <th>206</th>\n",
              "      <td>sratus</td>\n",
              "      <td>32</td>\n",
              "      <td>125</td>\n",
              "      <td>2000</td>\n",
              "      <td>8000</td>\n",
              "      <td>0</td>\n",
              "      <td>2</td>\n",
              "      <td>14</td>\n",
              "      <td>3.951244</td>\n",
              "      <td>41</td>\n",
              "      <td>28.0</td>\n",
              "    </tr>\n",
              "    <tr>\n",
              "      <th>207</th>\n",
              "      <td>wang</td>\n",
              "      <td>vs-100</td>\n",
              "      <td>480</td>\n",
              "      <td>512</td>\n",
              "      <td>8000</td>\n",
              "      <td>32</td>\n",
              "      <td>0</td>\n",
              "      <td>0</td>\n",
              "      <td>4.204693</td>\n",
              "      <td>47</td>\n",
              "      <td>29.0</td>\n",
              "    </tr>\n",
              "    <tr>\n",
              "      <th>208</th>\n",
              "      <td>wang</td>\n",
              "      <td>vs-90</td>\n",
              "      <td>480</td>\n",
              "      <td>1000</td>\n",
              "      <td>4000</td>\n",
              "      <td>0</td>\n",
              "      <td>0</td>\n",
              "      <td>0</td>\n",
              "      <td>3.806662</td>\n",
              "      <td>25</td>\n",
              "      <td>29.0</td>\n",
              "    </tr>\n",
              "  </tbody>\n",
              "</table>\n",
              "</div>"
            ],
            "text/plain": [
              "     vendor          model  myct  mmin  ...  chmax       prp  erp  vendor_num\n",
              "204  sperry           80/8   124  1000  ...      8  3.737670   37        27.0\n",
              "205  sperry  90/80-model-3    98  1000  ...      8  3.828641   50        27.0\n",
              "206  sratus             32   125  2000  ...     14  3.951244   41        28.0\n",
              "207    wang         vs-100   480   512  ...      0  4.204693   47        29.0\n",
              "208    wang          vs-90   480  1000  ...      0  3.806662   25        29.0\n",
              "\n",
              "[5 rows x 11 columns]"
            ]
          },
          "metadata": {
            "tags": []
          },
          "execution_count": 185
        }
      ]
    },
    {
      "cell_type": "code",
      "metadata": {
        "colab": {
          "base_uri": "https://localhost:8080/"
        },
        "id": "x14afECHpqiq",
        "outputId": "fe2b6eb5-3955-4017-ea65-ddee434abd03"
      },
      "source": [
        "data['model'].value_counts()"
      ],
      "execution_count": null,
      "outputs": [
        {
          "output_type": "execute_result",
          "data": {
            "text/plain": [
              "omega:480-iii     1\n",
              "1100/83           1\n",
              "v8545:ii          1\n",
              "as/8040           1\n",
              "as/9000-n         1\n",
              "                 ..\n",
              "8890/70           1\n",
              "v8670             1\n",
              "decsys:10:1091    1\n",
              "1100/84           1\n",
              "700               1\n",
              "Name: model, Length: 209, dtype: int64"
            ]
          },
          "metadata": {
            "tags": []
          },
          "execution_count": 186
        }
      ]
    },
    {
      "cell_type": "code",
      "metadata": {
        "colab": {
          "base_uri": "https://localhost:8080/",
          "height": 204
        },
        "id": "PIYDrNqBq9aj",
        "outputId": "c4a214cc-ab16-439a-e216-73a6b0899b78"
      },
      "source": [
        "data[\"model_num\"] = ord_enc.fit_transform(data[[\"model\"]])\n",
        "data.tail()"
      ],
      "execution_count": null,
      "outputs": [
        {
          "output_type": "execute_result",
          "data": {
            "text/html": [
              "<div>\n",
              "<style scoped>\n",
              "    .dataframe tbody tr th:only-of-type {\n",
              "        vertical-align: middle;\n",
              "    }\n",
              "\n",
              "    .dataframe tbody tr th {\n",
              "        vertical-align: top;\n",
              "    }\n",
              "\n",
              "    .dataframe thead th {\n",
              "        text-align: right;\n",
              "    }\n",
              "</style>\n",
              "<table border=\"1\" class=\"dataframe\">\n",
              "  <thead>\n",
              "    <tr style=\"text-align: right;\">\n",
              "      <th></th>\n",
              "      <th>vendor</th>\n",
              "      <th>model</th>\n",
              "      <th>myct</th>\n",
              "      <th>mmin</th>\n",
              "      <th>mmax</th>\n",
              "      <th>cach</th>\n",
              "      <th>chmin</th>\n",
              "      <th>chmax</th>\n",
              "      <th>prp</th>\n",
              "      <th>erp</th>\n",
              "      <th>vendor_num</th>\n",
              "      <th>model_num</th>\n",
              "    </tr>\n",
              "  </thead>\n",
              "  <tbody>\n",
              "    <tr>\n",
              "      <th>204</th>\n",
              "      <td>sperry</td>\n",
              "      <td>80/8</td>\n",
              "      <td>124</td>\n",
              "      <td>1000</td>\n",
              "      <td>8000</td>\n",
              "      <td>0</td>\n",
              "      <td>1</td>\n",
              "      <td>8</td>\n",
              "      <td>3.737670</td>\n",
              "      <td>37</td>\n",
              "      <td>27.0</td>\n",
              "      <td>100.0</td>\n",
              "    </tr>\n",
              "    <tr>\n",
              "      <th>205</th>\n",
              "      <td>sperry</td>\n",
              "      <td>90/80-model-3</td>\n",
              "      <td>98</td>\n",
              "      <td>1000</td>\n",
              "      <td>8000</td>\n",
              "      <td>32</td>\n",
              "      <td>2</td>\n",
              "      <td>8</td>\n",
              "      <td>3.828641</td>\n",
              "      <td>50</td>\n",
              "      <td>27.0</td>\n",
              "      <td>109.0</td>\n",
              "    </tr>\n",
              "    <tr>\n",
              "      <th>206</th>\n",
              "      <td>sratus</td>\n",
              "      <td>32</td>\n",
              "      <td>125</td>\n",
              "      <td>2000</td>\n",
              "      <td>8000</td>\n",
              "      <td>0</td>\n",
              "      <td>2</td>\n",
              "      <td>14</td>\n",
              "      <td>3.951244</td>\n",
              "      <td>41</td>\n",
              "      <td>28.0</td>\n",
              "      <td>28.0</td>\n",
              "    </tr>\n",
              "    <tr>\n",
              "      <th>207</th>\n",
              "      <td>wang</td>\n",
              "      <td>vs-100</td>\n",
              "      <td>480</td>\n",
              "      <td>512</td>\n",
              "      <td>8000</td>\n",
              "      <td>32</td>\n",
              "      <td>0</td>\n",
              "      <td>0</td>\n",
              "      <td>4.204693</td>\n",
              "      <td>47</td>\n",
              "      <td>29.0</td>\n",
              "      <td>207.0</td>\n",
              "    </tr>\n",
              "    <tr>\n",
              "      <th>208</th>\n",
              "      <td>wang</td>\n",
              "      <td>vs-90</td>\n",
              "      <td>480</td>\n",
              "      <td>1000</td>\n",
              "      <td>4000</td>\n",
              "      <td>0</td>\n",
              "      <td>0</td>\n",
              "      <td>0</td>\n",
              "      <td>3.806662</td>\n",
              "      <td>25</td>\n",
              "      <td>29.0</td>\n",
              "      <td>208.0</td>\n",
              "    </tr>\n",
              "  </tbody>\n",
              "</table>\n",
              "</div>"
            ],
            "text/plain": [
              "     vendor          model  myct  mmin  ...       prp  erp  vendor_num  model_num\n",
              "204  sperry           80/8   124  1000  ...  3.737670   37        27.0      100.0\n",
              "205  sperry  90/80-model-3    98  1000  ...  3.828641   50        27.0      109.0\n",
              "206  sratus             32   125  2000  ...  3.951244   41        28.0       28.0\n",
              "207    wang         vs-100   480   512  ...  4.204693   47        29.0      207.0\n",
              "208    wang          vs-90   480  1000  ...  3.806662   25        29.0      208.0\n",
              "\n",
              "[5 rows x 12 columns]"
            ]
          },
          "metadata": {
            "tags": []
          },
          "execution_count": 187
        }
      ]
    },
    {
      "cell_type": "markdown",
      "metadata": {
        "id": "jslGlKB2nTb8"
      },
      "source": [
        "**Đây là bài toán dự đoán giá trị từ các giá trị cho trước => áp dụng thuật toán Linear Regression**"
      ]
    },
    {
      "cell_type": "code",
      "metadata": {
        "id": "ajSjKgkUnt7A"
      },
      "source": [
        "X = data.drop(['erp','model','vendor'],axis=1)\n",
        "y = data.erp"
      ],
      "execution_count": null,
      "outputs": []
    },
    {
      "cell_type": "code",
      "metadata": {
        "colab": {
          "base_uri": "https://localhost:8080/"
        },
        "id": "DvHcUTxprrai",
        "outputId": "ea76e3be-2ff7-4572-9c56-eb8dc259ed75"
      },
      "source": [
        "X.shape"
      ],
      "execution_count": null,
      "outputs": [
        {
          "output_type": "execute_result",
          "data": {
            "text/plain": [
              "(209, 9)"
            ]
          },
          "metadata": {
            "tags": []
          },
          "execution_count": 189
        }
      ]
    },
    {
      "cell_type": "code",
      "metadata": {
        "colab": {
          "base_uri": "https://localhost:8080/"
        },
        "id": "CqqtUqcQru_D",
        "outputId": "780698d9-1d75-494f-87cb-b76e6ee57e7f"
      },
      "source": [
        "y.shape"
      ],
      "execution_count": null,
      "outputs": [
        {
          "output_type": "execute_result",
          "data": {
            "text/plain": [
              "(209,)"
            ]
          },
          "metadata": {
            "tags": []
          },
          "execution_count": 190
        }
      ]
    },
    {
      "cell_type": "code",
      "metadata": {
        "id": "UXs5BzULiw1Y"
      },
      "source": [
        "from sklearn.model_selection import train_test_split\n",
        "X_train, X_test, y_train, y_test = train_test_split(X,y,test_size=0.3)"
      ],
      "execution_count": null,
      "outputs": []
    },
    {
      "cell_type": "code",
      "metadata": {
        "colab": {
          "base_uri": "https://localhost:8080/"
        },
        "id": "P2oQpdbSoXm3",
        "outputId": "830d405a-d1a6-45f8-b5b7-ea2fe49418d1"
      },
      "source": [
        "from sklearn.linear_model import LinearRegression\n",
        "model = LinearRegression()\n",
        "model.fit(X_train, y_train)"
      ],
      "execution_count": null,
      "outputs": [
        {
          "output_type": "execute_result",
          "data": {
            "text/plain": [
              "LinearRegression(copy_X=True, fit_intercept=True, n_jobs=None, normalize=False)"
            ]
          },
          "metadata": {
            "tags": []
          },
          "execution_count": 192
        }
      ]
    },
    {
      "cell_type": "code",
      "metadata": {
        "id": "gTxZHmOwoqlO"
      },
      "source": [
        "y_pred = model.predict(X_test)"
      ],
      "execution_count": null,
      "outputs": []
    },
    {
      "cell_type": "code",
      "metadata": {
        "colab": {
          "base_uri": "https://localhost:8080/"
        },
        "id": "F0-PP7sosIO_",
        "outputId": "9112b5a4-9699-4b0e-a1ed-95cb0cd28405"
      },
      "source": [
        "intercept = model.intercept_\n",
        "slope = model.coef_\n",
        "print(intercept)\n",
        "print(slope)"
      ],
      "execution_count": null,
      "outputs": [
        {
          "output_type": "stream",
          "text": [
            "48.57294886045996\n",
            "[ 3.47707794e-02  8.41193997e-03  8.79430702e-03  1.09510415e+00\n",
            " -1.39081431e+00  1.16076682e+00 -2.88099404e+01  1.13645883e-01\n",
            " -1.00794073e-01]\n"
          ],
          "name": "stdout"
        }
      ]
    },
    {
      "cell_type": "code",
      "metadata": {
        "colab": {
          "base_uri": "https://localhost:8080/"
        },
        "id": "IDk_P3eJsUc3",
        "outputId": "506c32ff-9e05-4185-e8f6-14a57475a249"
      },
      "source": [
        "print(model.score(X,y))\n",
        "print(model.score(X_train,y_train))\n",
        "print(model.score(X_test,y_test))"
      ],
      "execution_count": null,
      "outputs": [
        {
          "output_type": "stream",
          "text": [
            "0.9080112914157643\n",
            "0.9297090643417683\n",
            "0.8746332716753586\n"
          ],
          "name": "stdout"
        }
      ]
    },
    {
      "cell_type": "markdown",
      "metadata": {
        "id": "hm9kIUpFt0WJ"
      },
      "source": [
        "**Điểm score cao, trên 85%**"
      ]
    },
    {
      "cell_type": "code",
      "metadata": {
        "colab": {
          "base_uri": "https://localhost:8080/"
        },
        "id": "JsxUGTX1sdkO",
        "outputId": "832b4a9b-3732-4540-f45a-9afa6e11d604"
      },
      "source": [
        "from sklearn.metrics import mean_absolute_error, mean_squared_error\n",
        "print('MSE = ',mean_squared_error(y_pred, y_test))\n",
        "print('MAE = ',mean_absolute_error(y_pred, y_test))"
      ],
      "execution_count": null,
      "outputs": [
        {
          "output_type": "stream",
          "text": [
            "MSE =  3949.0553535657514\n",
            "MAE =  34.96413238480626\n"
          ],
          "name": "stdout"
        }
      ]
    },
    {
      "cell_type": "code",
      "metadata": {
        "colab": {
          "base_uri": "https://localhost:8080/"
        },
        "id": "3KpB74SyuJz4",
        "outputId": "6db7030f-00e8-45f7-b95b-5f227cf3daeb"
      },
      "source": [
        "y_pred"
      ],
      "execution_count": null,
      "outputs": [
        {
          "output_type": "execute_result",
          "data": {
            "text/plain": [
              "array([ 1.09933563e+02,  1.55835091e+02,  6.31569598e+01,  1.54119206e+02,\n",
              "        1.05248961e+02,  3.28545909e+01,  6.55304777e+00,  8.40811411e+02,\n",
              "        1.04164816e+01,  1.75461665e+02,  4.97563938e+01,  2.53122375e+02,\n",
              "       -1.84870652e+01, -2.78099894e-01,  1.08106653e+02,  2.18980340e+02,\n",
              "        1.11747687e+02,  7.77100447e+01,  3.59232694e+02,  9.56526667e+01,\n",
              "        3.46964050e+02,  1.01025441e+02, -1.96230647e+01,  3.74764804e+02,\n",
              "        1.01680295e+02,  1.24056873e+01, -2.69586147e+00,  1.72380346e+01,\n",
              "        1.57343538e+02,  4.34173625e+01,  4.22351308e+00,  1.36676459e+01,\n",
              "        2.82378118e+02,  8.84214646e+01,  5.18358424e+01, -6.61634154e+00,\n",
              "        2.48532343e+01,  1.83107488e+02, -8.14454881e+00,  1.22300898e+02,\n",
              "        5.61448893e+02,  5.48029022e+00,  3.04842254e+02,  1.28278562e+01,\n",
              "        1.93771799e+01, -2.50782011e+01,  3.05201269e+02,  4.43621562e+01,\n",
              "        3.08291685e+02,  8.70615095e+01,  6.46748378e+01,  1.02173861e+02,\n",
              "        3.66593762e+02,  3.49463037e+01,  5.60843522e+01,  3.56734591e+01,\n",
              "        1.45721428e+01,  6.68370305e+01,  5.40736742e+01,  4.63309703e+01,\n",
              "        1.75078470e+02, -1.77679163e+01,  1.63878957e+01])"
            ]
          },
          "metadata": {
            "tags": []
          },
          "execution_count": 197
        }
      ]
    },
    {
      "cell_type": "code",
      "metadata": {
        "colab": {
          "base_uri": "https://localhost:8080/"
        },
        "id": "XCn2yMTEuO88",
        "outputId": "2ec090d7-1e80-4cc9-aeea-78e99b9b2400"
      },
      "source": [
        "y_test"
      ],
      "execution_count": null,
      "outputs": [
        {
          "output_type": "execute_result",
          "data": {
            "text/plain": [
              "134     80\n",
              "35     136\n",
              "81      30\n",
              "147    119\n",
              "42      74\n",
              "      ... \n",
              "205     50\n",
              "102     18\n",
              "34     138\n",
              "78      18\n",
              "53      36\n",
              "Name: erp, Length: 63, dtype: int64"
            ]
          },
          "metadata": {
            "tags": []
          },
          "execution_count": 198
        }
      ]
    },
    {
      "cell_type": "code",
      "metadata": {
        "colab": {
          "base_uri": "https://localhost:8080/",
          "height": 279
        },
        "id": "3fkGvj7ls4K2",
        "outputId": "7e3a80d7-1f9c-4bda-b39e-370d626d1584"
      },
      "source": [
        "plt.scatter(y_pred, y_test)\n",
        "plt.xlabel('Model Prediction')\n",
        "plt.ylabel('True Value')\n",
        "plt.plot([0,700],[0,1000],'k-',color='r')\n",
        "plt.show()"
      ],
      "execution_count": null,
      "outputs": [
        {
          "output_type": "display_data",
          "data": {
            "image/png": "[encoded data removed]",
            "text/plain": [
              "<Figure size 432x288 with 1 Axes>"
            ]
          },
          "metadata": {
            "tags": [],
            "needs_background": "light"
          }
        }
      ]
    },
    {
      "cell_type": "code",
      "metadata": {
        "colab": {
          "base_uri": "https://localhost:8080/",
          "height": 405
        },
        "id": "sz_LWDdxs_G3",
        "outputId": "e6e58bbc-3b90-4614-db1c-22292c728027"
      },
      "source": [
        "import warnings\n",
        "warnings.filterwarnings('ignore')\n",
        "plt.figure(figsize=(14,6))\n",
        "plt.subplot(1,2,1)\n",
        "ax1 = sns.distplot(y_train, hist=False, color='r', label='Actual Train Values')\n",
        "sns.distplot(model.predict(X_train), hist=False, color='b', label='Predicted Train Values', ax=ax1)\n",
        "plt.subplot(1,2,2)\n",
        "ax2 = sns.distplot(y_test, hist=False, color='r', label='Actual Test Values')\n",
        "sns.distplot(y_pred, hist=False, color='b', label='Predicted Train Values', ax=ax2)"
      ],
      "execution_count": null,
      "outputs": [
        {
          "output_type": "execute_result",
          "data": {
            "text/plain": [
              "<matplotlib.axes._subplots.AxesSubplot at 0x7efc66e8e3c8>"
            ]
          },
          "metadata": {
            "tags": []
          },
          "execution_count": 200
        },
        {
          "output_type": "display_data",
          "data": {
            "image/png": "[encoded data removed]",
            "text/plain": [
              "<Figure size 1008x432 with 2 Axes>"
            ]
          },
          "metadata": {
            "tags": [],
            "needs_background": "light"
          }
        }
      ]
    },
    {
      "cell_type": "markdown",
      "metadata": {
        "id": "89Cb0cifvTvC"
      },
      "source": [
        "**Biểu đồ 1 và 2 đều cho thấy phân phối của biểu đồ 1 tốt hơn => model cho kết quả tốt hơn đối với dữa liệu train, đối với dữ liệu test, data bị sai lệch trong khoảng từ 200 đến 400**"
      ]
    },
    {
      "cell_type": "markdown",
      "metadata": {
        "id": "Np0-yqMnwlzw"
      },
      "source": [
        "**Lựa chọn thuộc tính**"
      ]
    },
    {
      "cell_type": "code",
      "metadata": {
        "colab": {
          "base_uri": "https://localhost:8080/"
        },
        "id": "GCI2yG_ivDVa",
        "outputId": "aa1d50d8-0433-43f0-95da-263c05191687"
      },
      "source": [
        "from sklearn.feature_selection import SelectKBest\n",
        "from sklearn.feature_selection import f_regression\n",
        "\n",
        "bestfeatures = SelectKBest(score_func=f_regression, k='all')\n",
        "fit = bestfeatures.fit(X,y)\n",
        "dfscores = pd.DataFrame(fit.scores_)\n",
        "dfcolumns = pd.DataFrame(X.columns)\n",
        "\n",
        "featureScores = pd.concat([dfcolumns,dfscores], axis=1)\n",
        "featureScores.columns = ['Specs','Score']\n",
        "\n",
        "featureScores.sort_values('Score', ascending=False, inplace=True)\n",
        "print(featureScores)"
      ],
      "execution_count": null,
      "outputs": [
        {
          "output_type": "stream",
          "text": [
            "    Specs       Score\n",
            "4    mmax  895.035239\n",
            "3    mmin  422.636024\n",
            "8     prp  259.585993\n",
            "5    cach  150.332889\n",
            "6   chmin  123.042584\n",
            "7   chmax  111.779441\n",
            "2    myct   18.778451\n",
            "1   model    7.027754\n",
            "0  vendor    0.085516\n"
          ],
          "name": "stdout"
        }
      ]
    },
    {
      "cell_type": "code",
      "metadata": {
        "id": "dIaTUUloxejk"
      },
      "source": [
        "corrmat = data.corr()\n",
        "top_corr_features = corrmat.index"
      ],
      "execution_count": null,
      "outputs": []
    },
    {
      "cell_type": "code",
      "metadata": {
        "colab": {
          "base_uri": "https://localhost:8080/",
          "height": 359
        },
        "id": "TtfFNzyxxse3",
        "outputId": "f2240c7e-d916-43bf-b634-f82e2dfa459e"
      },
      "source": [
        "corrmat"
      ],
      "execution_count": null,
      "outputs": [
        {
          "output_type": "execute_result",
          "data": {
            "text/html": [
              "<div>\n",
              "<style scoped>\n",
              "    .dataframe tbody tr th:only-of-type {\n",
              "        vertical-align: middle;\n",
              "    }\n",
              "\n",
              "    .dataframe tbody tr th {\n",
              "        vertical-align: top;\n",
              "    }\n",
              "\n",
              "    .dataframe thead th {\n",
              "        text-align: right;\n",
              "    }\n",
              "</style>\n",
              "<table border=\"1\" class=\"dataframe\">\n",
              "  <thead>\n",
              "    <tr style=\"text-align: right;\">\n",
              "      <th></th>\n",
              "      <th>vendor</th>\n",
              "      <th>model</th>\n",
              "      <th>myct</th>\n",
              "      <th>mmin</th>\n",
              "      <th>mmax</th>\n",
              "      <th>cach</th>\n",
              "      <th>chmin</th>\n",
              "      <th>chmax</th>\n",
              "      <th>prp</th>\n",
              "      <th>erp</th>\n",
              "    </tr>\n",
              "  </thead>\n",
              "  <tbody>\n",
              "    <tr>\n",
              "      <th>vendor</th>\n",
              "      <td>1.000000</td>\n",
              "      <td>-0.127345</td>\n",
              "      <td>-0.080296</td>\n",
              "      <td>-0.083438</td>\n",
              "      <td>0.008180</td>\n",
              "      <td>0.005729</td>\n",
              "      <td>0.037202</td>\n",
              "      <td>-0.012555</td>\n",
              "      <td>-0.036779</td>\n",
              "      <td>-0.020321</td>\n",
              "    </tr>\n",
              "    <tr>\n",
              "      <th>model</th>\n",
              "      <td>-0.127345</td>\n",
              "      <td>1.000000</td>\n",
              "      <td>0.048600</td>\n",
              "      <td>-0.126972</td>\n",
              "      <td>-0.176645</td>\n",
              "      <td>-0.035492</td>\n",
              "      <td>-0.218127</td>\n",
              "      <td>-0.154152</td>\n",
              "      <td>-0.144549</td>\n",
              "      <td>-0.181206</td>\n",
              "    </tr>\n",
              "    <tr>\n",
              "      <th>myct</th>\n",
              "      <td>-0.080296</td>\n",
              "      <td>0.048600</td>\n",
              "      <td>1.000000</td>\n",
              "      <td>-0.335642</td>\n",
              "      <td>-0.378561</td>\n",
              "      <td>-0.321000</td>\n",
              "      <td>-0.301090</td>\n",
              "      <td>-0.250502</td>\n",
              "      <td>-0.532259</td>\n",
              "      <td>-0.288396</td>\n",
              "    </tr>\n",
              "    <tr>\n",
              "      <th>mmin</th>\n",
              "      <td>-0.083438</td>\n",
              "      <td>-0.126972</td>\n",
              "      <td>-0.335642</td>\n",
              "      <td>1.000000</td>\n",
              "      <td>0.758157</td>\n",
              "      <td>0.534729</td>\n",
              "      <td>0.517189</td>\n",
              "      <td>0.266907</td>\n",
              "      <td>0.715635</td>\n",
              "      <td>0.819292</td>\n",
              "    </tr>\n",
              "    <tr>\n",
              "      <th>mmax</th>\n",
              "      <td>0.008180</td>\n",
              "      <td>-0.176645</td>\n",
              "      <td>-0.378561</td>\n",
              "      <td>0.758157</td>\n",
              "      <td>1.000000</td>\n",
              "      <td>0.537990</td>\n",
              "      <td>0.560513</td>\n",
              "      <td>0.527246</td>\n",
              "      <td>0.820035</td>\n",
              "      <td>0.901202</td>\n",
              "    </tr>\n",
              "    <tr>\n",
              "      <th>cach</th>\n",
              "      <td>0.005729</td>\n",
              "      <td>-0.035492</td>\n",
              "      <td>-0.321000</td>\n",
              "      <td>0.534729</td>\n",
              "      <td>0.537990</td>\n",
              "      <td>1.000000</td>\n",
              "      <td>0.582245</td>\n",
              "      <td>0.487846</td>\n",
              "      <td>0.703894</td>\n",
              "      <td>0.648620</td>\n",
              "    </tr>\n",
              "    <tr>\n",
              "      <th>chmin</th>\n",
              "      <td>0.037202</td>\n",
              "      <td>-0.218127</td>\n",
              "      <td>-0.301090</td>\n",
              "      <td>0.517189</td>\n",
              "      <td>0.560513</td>\n",
              "      <td>0.582245</td>\n",
              "      <td>1.000000</td>\n",
              "      <td>0.548281</td>\n",
              "      <td>0.602493</td>\n",
              "      <td>0.610580</td>\n",
              "    </tr>\n",
              "    <tr>\n",
              "      <th>chmax</th>\n",
              "      <td>-0.012555</td>\n",
              "      <td>-0.154152</td>\n",
              "      <td>-0.250502</td>\n",
              "      <td>0.266907</td>\n",
              "      <td>0.527246</td>\n",
              "      <td>0.487846</td>\n",
              "      <td>0.548281</td>\n",
              "      <td>1.000000</td>\n",
              "      <td>0.505481</td>\n",
              "      <td>0.592156</td>\n",
              "    </tr>\n",
              "    <tr>\n",
              "      <th>prp</th>\n",
              "      <td>-0.036779</td>\n",
              "      <td>-0.144549</td>\n",
              "      <td>-0.532259</td>\n",
              "      <td>0.715635</td>\n",
              "      <td>0.820035</td>\n",
              "      <td>0.703894</td>\n",
              "      <td>0.602493</td>\n",
              "      <td>0.505481</td>\n",
              "      <td>1.000000</td>\n",
              "      <td>0.745890</td>\n",
              "    </tr>\n",
              "    <tr>\n",
              "      <th>erp</th>\n",
              "      <td>-0.020321</td>\n",
              "      <td>-0.181206</td>\n",
              "      <td>-0.288396</td>\n",
              "      <td>0.819292</td>\n",
              "      <td>0.901202</td>\n",
              "      <td>0.648620</td>\n",
              "      <td>0.610580</td>\n",
              "      <td>0.592156</td>\n",
              "      <td>0.745890</td>\n",
              "      <td>1.000000</td>\n",
              "    </tr>\n",
              "  </tbody>\n",
              "</table>\n",
              "</div>"
            ],
            "text/plain": [
              "          vendor     model      myct  ...     chmax       prp       erp\n",
              "vendor  1.000000 -0.127345 -0.080296  ... -0.012555 -0.036779 -0.020321\n",
              "model  -0.127345  1.000000  0.048600  ... -0.154152 -0.144549 -0.181206\n",
              "myct   -0.080296  0.048600  1.000000  ... -0.250502 -0.532259 -0.288396\n",
              "mmin   -0.083438 -0.126972 -0.335642  ...  0.266907  0.715635  0.819292\n",
              "mmax    0.008180 -0.176645 -0.378561  ...  0.527246  0.820035  0.901202\n",
              "cach    0.005729 -0.035492 -0.321000  ...  0.487846  0.703894  0.648620\n",
              "chmin   0.037202 -0.218127 -0.301090  ...  0.548281  0.602493  0.610580\n",
              "chmax  -0.012555 -0.154152 -0.250502  ...  1.000000  0.505481  0.592156\n",
              "prp    -0.036779 -0.144549 -0.532259  ...  0.505481  1.000000  0.745890\n",
              "erp    -0.020321 -0.181206 -0.288396  ...  0.592156  0.745890  1.000000\n",
              "\n",
              "[10 rows x 10 columns]"
            ]
          },
          "metadata": {
            "tags": []
          },
          "execution_count": 153
        }
      ]
    },
    {
      "cell_type": "code",
      "metadata": {
        "colab": {
          "base_uri": "https://localhost:8080/",
          "height": 432
        },
        "id": "n1RopS-QxxXJ",
        "outputId": "f740b5f4-208b-4b37-a703-f9fc416f9c4f"
      },
      "source": [
        "plt.figure(figsize=(15,7))\n",
        "sns.heatmap(data[top_corr_features].corr(),cmap='RdYlGn',annot=True)\n",
        "plt.show()"
      ],
      "execution_count": null,
      "outputs": [
        {
          "output_type": "display_data",
          "data": {
            "image/png": "[encoded data removed]",
            "text/plain": [
              "<Figure size 1080x504 with 2 Axes>"
            ]
          },
          "metadata": {
            "tags": [],
            "needs_background": "light"
          }
        }
      ]
    },
    {
      "cell_type": "markdown",
      "metadata": {
        "id": "g0Kc5zAxyWmr"
      },
      "source": [
        "**Dựa vào score và biểu đồ nhiệt, lựa chọn 6 thuộc tính để thực hiện lại model**\n",
        "\n",
        "mmax  895.035239\n",
        "\n",
        "mmin  422.636024\n",
        "\n",
        "prp  259.585993\n",
        "\n",
        "cach  150.332889\n",
        "\n",
        "chmin  123.042584\n",
        "\n",
        "chmax  111.779441"
      ]
    },
    {
      "cell_type": "code",
      "metadata": {
        "id": "6CBxBj1lywM1"
      },
      "source": [
        "X_1 = data.drop(['erp','model','vendor','myct','model_num','vendor_num'],axis=1)\n",
        "y_1 = data.erp"
      ],
      "execution_count": null,
      "outputs": []
    },
    {
      "cell_type": "code",
      "metadata": {
        "id": "RkPPQvNnywM6"
      },
      "source": [
        "from sklearn.model_selection import train_test_split\n",
        "X_train_1, X_test_1, y_train_1, y_test_1 = train_test_split(X_1,y_1,test_size=0.3)"
      ],
      "execution_count": null,
      "outputs": []
    },
    {
      "cell_type": "code",
      "metadata": {
        "colab": {
          "base_uri": "https://localhost:8080/"
        },
        "id": "hhyVqZ5eywM6",
        "outputId": "afc8d4c1-42b8-4f47-d932-a6317c81da3d"
      },
      "source": [
        "from sklearn.linear_model import LinearRegression\n",
        "model_1 = LinearRegression()\n",
        "model_1.fit(X_train_1, y_train_1)"
      ],
      "execution_count": null,
      "outputs": [
        {
          "output_type": "execute_result",
          "data": {
            "text/plain": [
              "LinearRegression(copy_X=True, fit_intercept=True, n_jobs=None, normalize=False)"
            ]
          },
          "metadata": {
            "tags": []
          },
          "execution_count": 203
        }
      ]
    },
    {
      "cell_type": "code",
      "metadata": {
        "id": "31LIaz4hywM7"
      },
      "source": [
        "y_pred_1 = model_1.predict(X_test_1)"
      ],
      "execution_count": null,
      "outputs": []
    },
    {
      "cell_type": "code",
      "metadata": {
        "colab": {
          "base_uri": "https://localhost:8080/"
        },
        "id": "jikspMqnywM7",
        "outputId": "beb38260-f100-4024-81f1-15c62362498d"
      },
      "source": [
        "intercept = model_1.intercept_\n",
        "slope = model_1.coef_\n",
        "print(intercept)\n",
        "print(slope)"
      ],
      "execution_count": null,
      "outputs": [
        {
          "output_type": "stream",
          "text": [
            "100.79602038269391\n",
            "[ 1.65761166e-02  7.85371437e-03  9.95999955e-01 -7.16206164e-01\n",
            "  1.62174810e+00 -4.78675795e+01]\n"
          ],
          "name": "stdout"
        }
      ]
    },
    {
      "cell_type": "code",
      "metadata": {
        "colab": {
          "base_uri": "https://localhost:8080/"
        },
        "id": "TGRDGIr7ywM7",
        "outputId": "4f4ce347-ea21-4a36-f338-86a9011cf60a"
      },
      "source": [
        "print(model_1.score(X_1,y_1))\n",
        "print(model_1.score(X_train_1,y_train_1))\n",
        "print(model_1.score(X_test_1,y_test_1))"
      ],
      "execution_count": null,
      "outputs": [
        {
          "output_type": "stream",
          "text": [
            "0.9173770704023803\n",
            "0.9273201154532087\n",
            "0.8634242729216773\n"
          ],
          "name": "stdout"
        }
      ]
    },
    {
      "cell_type": "code",
      "metadata": {
        "colab": {
          "base_uri": "https://localhost:8080/"
        },
        "id": "VfNXxr9szT39",
        "outputId": "3a4811c9-1b5f-424b-d8e3-1e3da37de8c9"
      },
      "source": [
        "from sklearn.metrics import mean_absolute_error, mean_squared_error\n",
        "print('MSE = ',mean_squared_error(y_pred_1, y_test_1))\n",
        "print('MAE = ',mean_absolute_error(y_pred_1, y_test_1))"
      ],
      "execution_count": null,
      "outputs": [
        {
          "output_type": "stream",
          "text": [
            "MSE =  1770.2976713444793\n",
            "MAE =  28.61011594184665\n"
          ],
          "name": "stdout"
        }
      ]
    },
    {
      "cell_type": "markdown",
      "metadata": {
        "id": "gvcGwn_NzgX-"
      },
      "source": [
        "**Điểm score nhìn chung không thay đổi, điểm MSE giảm được 1 phần**"
      ]
    },
    {
      "cell_type": "markdown",
      "metadata": {
        "id": "LdsyHXpgznXA"
      },
      "source": [
        "**Dự đoán kết quả**"
      ]
    },
    {
      "cell_type": "code",
      "metadata": {
        "colab": {
          "base_uri": "https://localhost:8080/"
        },
        "id": "JKchjERk3U_a",
        "outputId": "bc214243-c50d-4466-f6e9-06acac804264"
      },
      "source": [
        "data['vendor']"
      ],
      "execution_count": null,
      "outputs": [
        {
          "output_type": "execute_result",
          "data": {
            "text/plain": [
              "0      adviser\n",
              "1       amdahl\n",
              "2       amdahl\n",
              "3       amdahl\n",
              "4       amdahl\n",
              "        ...   \n",
              "204     sperry\n",
              "205     sperry\n",
              "206     sratus\n",
              "207       wang\n",
              "208       wang\n",
              "Name: vendor, Length: 209, dtype: object"
            ]
          },
          "metadata": {
            "tags": []
          },
          "execution_count": 214
        }
      ]
    },
    {
      "cell_type": "code",
      "metadata": {
        "colab": {
          "base_uri": "https://localhost:8080/"
        },
        "id": "lDe5y-wPzXLB",
        "outputId": "4fc5ad16-4c4a-4d50-9d3f-033bfebc92ea"
      },
      "source": [
        "X_new = [['amdahl','470v/7b',29,8000,320000,32,8,32,172],\n",
        "         ['sperry','1100/83',50,2000,32000,112,52,104,307]]\n",
        "enc_vendor = ord_enc.fit(data[[\"vendor\"]])\n",
        "amd = enc_vendor.transform([['amdahl']])\n",
        "amd, sperry = enc_vendor.transform([['amdahl']]), enc_vendor.transform([['sperry']])\n",
        "enc_model = ord_enc.fit(data[[\"model\"]])\n",
        "model1,model2 = enc_model.transform([['470v/7b']]),enc_vendor.transform([['1100/83']])\n",
        "X_new = [[amd,model1,29,8000,320000,32,8,32,172],\n",
        "         [sperry,model2,50,2000,32000,112,52,104,307]]\n",
        "y_new = model.predict(X_new)\n",
        "y_new"
      ],
      "execution_count": null,
      "outputs": [
        {
          "output_type": "execute_result",
          "data": {
            "text/plain": [
              "array([-436457.38000909,  -43653.10015364])"
            ]
          },
          "metadata": {
            "tags": []
          },
          "execution_count": 227
        }
      ]
    },
    {
      "cell_type": "code",
      "metadata": {
        "id": "HX5N56rR0qxV"
      },
      "source": [
        ""
      ],
      "execution_count": null,
      "outputs": []
    }
  ]
}